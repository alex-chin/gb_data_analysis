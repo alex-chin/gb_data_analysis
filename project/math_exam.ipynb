{
 "cells": [
  {
   "cell_type": "markdown",
   "source": [
    "## Tutors - expected math exam results\n",
    "\n",
    "#### Predict average math exam results for students of the tutors\n",
    "\n",
    "Ваша задача в этом соревновании - предсказать средний балл на экзамене по математике,\n",
    "который получают ученики репетиторов из датасета test.csv.\n",
    "Вам будут даны два датасета: train.csv (содержит признаки и целевую переменную) и test.csv (только признаки)\n",
    "\n",
    "https://www.kaggle.com/c/tutors-expected-math-exam-results"
   ],
   "metadata": {
    "collapsed": false,
    "pycharm": {
     "name": "#%% md\n"
    }
   }
  },
  {
   "cell_type": "markdown",
   "source": [
    "Метрика для оценки – Коэффициент детерминации:\n",
    "\n",
    "https://en.wikipedia.org/wiki/Coefficient_of_determination\n",
    "\n",
    "\\[ R^2 = 1 - \\frac{\\sigma^2}{\\sigma_y^2} \\]\n",
    "\n"
   ],
   "metadata": {
    "collapsed": false,
    "pycharm": {
     "name": "#%% md\n"
    }
   }
  },
  {
   "cell_type": "markdown",
   "source": [
    "You can only use these imports:\n",
    "``` python\n",
    "import numpy as np\n",
    "import pandas as pd\n",
    "from sklearn.model_selection import train_test_split\n",
    "import matplotlib.pyplot as plt\n",
    "import seaborn as sns\n",
    "```"
   ],
   "metadata": {
    "collapsed": false,
    "pycharm": {
     "name": "#%% md\n"
    }
   }
  },
  {
   "cell_type": "markdown",
   "source": [
    "### План\n",
    " - Анализ предметной области\n",
    " - Очистка и форматирование данных.\n",
    " - Разведочный анализ данных.\n",
    " - Конструирование и выбор признаков.\n",
    " - Сравнение метрик нескольких моделей машинного обучения.\n",
    " - Гиперпараметрическая настройка лучшей модели.\n",
    " - Оценка лучшей модели на тестовом наборе данных.\n",
    " - Интерпретирование результатов работы модели."
   ],
   "metadata": {
    "collapsed": false
   }
  },
  {
   "cell_type": "markdown",
   "source": [
    "### Анализ предметной области"
   ],
   "metadata": {
    "collapsed": false
   }
  },
  {
   "cell_type": "markdown",
   "source": [
    "Профиль учителя включает (гипотеза! в постановке задачи не найдено):\n",
    "\n",
    "- **age** - Возраст\n",
    "- **years_of_experience** - Количество лет в профессии\n",
    "- **lesson_price** - Стоимость урока\n",
    "- **qualification** - Квалификация\n",
    "- **physics** **chemistry**\t**biology**\t**english**\t**geography** **history** - дополнительная квалификация\n",
    "- **mean_exam_points** - средний балл (целевая переменная)\n",
    "\n",
    "Наибольшие вопросы вызывают поля доп квалификации **physics** **chemistry**\t**biology**\t**english**\t**geography** **history**.\n",
    "Можно предположить что доп квалификация в предметах **physics** **chemistry** должна коррелировать с преподаванием математики\n",
    "И следовательно, влиять на целевую переменную."
   ],
   "metadata": {
    "collapsed": false,
    "pycharm": {
     "name": "#%% md\n"
    }
   }
  },
  {
   "cell_type": "markdown",
   "source": [
    ">#### Гипотеза-01-EXT\n",
    "Проверить корреляцию признаков **physics** **chemistry** на целевую переменную"
   ],
   "metadata": {
    "collapsed": false
   }
  },
  {
   "cell_type": "markdown",
   "source": [
    ">#### Гипотеза-02-0EXT\n",
    "Удалить признаки **biology**\t**english**\t**geography** **history**"
   ],
   "metadata": {
    "collapsed": false,
    "pycharm": {
     "name": "#%% md\n"
    }
   }
  },
  {
   "cell_type": "markdown",
   "source": [
    "### Очистка и форматирование данных."
   ],
   "metadata": {
    "collapsed": false
   }
  },
  {
   "cell_type": "code",
   "execution_count": 1,
   "metadata": {
    "collapsed": true
   },
   "outputs": [],
   "source": [
    "import pandas as pd\n",
    "import numpy as np\n",
    "import matplotlib.pyplot as plt"
   ]
  },
  {
   "cell_type": "code",
   "execution_count": 338,
   "outputs": [],
   "source": [
    "TRAIN_DATASET_PATH = 'data/train.csv'\n",
    "TEST_DATASET_PATH = 'data/test.csv'\n",
    "SAMPLE_PATH = 'data/submission_example.csv'\n",
    "TARGET_NAME = 'mean_exam_points'"
   ],
   "metadata": {
    "collapsed": false,
    "pycharm": {
     "name": "#%%\n"
    }
   }
  },
  {
   "cell_type": "code",
   "execution_count": 156,
   "outputs": [],
   "source": [
    "train = pd.read_csv(TRAIN_DATASET_PATH)\n",
    "test = pd.read_csv(TEST_DATASET_PATH)"
   ],
   "metadata": {
    "collapsed": false,
    "pycharm": {
     "name": "#%%\n"
    }
   }
  },
  {
   "cell_type": "code",
   "execution_count": 157,
   "outputs": [
    {
     "data": {
      "text/plain": "   Id   age  years_of_experience  lesson_price  qualification  physics  \\\n0   0  40.0                  0.0        1400.0            1.0      1.0   \n1   1  48.0                  4.0        2850.0            3.0      1.0   \n2   2  39.0                  0.0        1200.0            1.0      0.0   \n3   3  46.0                  5.0        1400.0            1.0      0.0   \n4   4  43.0                  1.0        1500.0            1.0      0.0   \n\n   chemistry  biology  english  geography  history  mean_exam_points  \n0        0.0      0.0      0.0        1.0      0.0              63.0  \n1        0.0      0.0      0.0        0.0      0.0              86.0  \n2        0.0      0.0      0.0        0.0      0.0              53.0  \n3        0.0      0.0      0.0        0.0      0.0              56.0  \n4        0.0      0.0      0.0        0.0      0.0              59.0  ",
      "text/html": "<div>\n<style scoped>\n    .dataframe tbody tr th:only-of-type {\n        vertical-align: middle;\n    }\n\n    .dataframe tbody tr th {\n        vertical-align: top;\n    }\n\n    .dataframe thead th {\n        text-align: right;\n    }\n</style>\n<table border=\"1\" class=\"dataframe\">\n  <thead>\n    <tr style=\"text-align: right;\">\n      <th></th>\n      <th>Id</th>\n      <th>age</th>\n      <th>years_of_experience</th>\n      <th>lesson_price</th>\n      <th>qualification</th>\n      <th>physics</th>\n      <th>chemistry</th>\n      <th>biology</th>\n      <th>english</th>\n      <th>geography</th>\n      <th>history</th>\n      <th>mean_exam_points</th>\n    </tr>\n  </thead>\n  <tbody>\n    <tr>\n      <th>0</th>\n      <td>0</td>\n      <td>40.0</td>\n      <td>0.0</td>\n      <td>1400.0</td>\n      <td>1.0</td>\n      <td>1.0</td>\n      <td>0.0</td>\n      <td>0.0</td>\n      <td>0.0</td>\n      <td>1.0</td>\n      <td>0.0</td>\n      <td>63.0</td>\n    </tr>\n    <tr>\n      <th>1</th>\n      <td>1</td>\n      <td>48.0</td>\n      <td>4.0</td>\n      <td>2850.0</td>\n      <td>3.0</td>\n      <td>1.0</td>\n      <td>0.0</td>\n      <td>0.0</td>\n      <td>0.0</td>\n      <td>0.0</td>\n      <td>0.0</td>\n      <td>86.0</td>\n    </tr>\n    <tr>\n      <th>2</th>\n      <td>2</td>\n      <td>39.0</td>\n      <td>0.0</td>\n      <td>1200.0</td>\n      <td>1.0</td>\n      <td>0.0</td>\n      <td>0.0</td>\n      <td>0.0</td>\n      <td>0.0</td>\n      <td>0.0</td>\n      <td>0.0</td>\n      <td>53.0</td>\n    </tr>\n    <tr>\n      <th>3</th>\n      <td>3</td>\n      <td>46.0</td>\n      <td>5.0</td>\n      <td>1400.0</td>\n      <td>1.0</td>\n      <td>0.0</td>\n      <td>0.0</td>\n      <td>0.0</td>\n      <td>0.0</td>\n      <td>0.0</td>\n      <td>0.0</td>\n      <td>56.0</td>\n    </tr>\n    <tr>\n      <th>4</th>\n      <td>4</td>\n      <td>43.0</td>\n      <td>1.0</td>\n      <td>1500.0</td>\n      <td>1.0</td>\n      <td>0.0</td>\n      <td>0.0</td>\n      <td>0.0</td>\n      <td>0.0</td>\n      <td>0.0</td>\n      <td>0.0</td>\n      <td>59.0</td>\n    </tr>\n  </tbody>\n</table>\n</div>"
     },
     "execution_count": 157,
     "metadata": {},
     "output_type": "execute_result"
    }
   ],
   "source": [
    "train.head()"
   ],
   "metadata": {
    "collapsed": false,
    "pycharm": {
     "name": "#%%\n"
    }
   }
  },
  {
   "cell_type": "markdown",
   "source": [
    "> Удаляем лишние переменные"
   ],
   "metadata": {
    "collapsed": false,
    "pycharm": {
     "name": "#%% md\n"
    }
   }
  },
  {
   "cell_type": "code",
   "execution_count": 15,
   "outputs": [
    {
     "data": {
      "text/plain": "       age  years_of_experience  lesson_price  qualification  physics  \\\n0     40.0                  0.0        1400.0            1.0      1.0   \n1     48.0                  4.0        2850.0            3.0      1.0   \n2     39.0                  0.0        1200.0            1.0      0.0   \n3     46.0                  5.0        1400.0            1.0      0.0   \n4     43.0                  1.0        1500.0            1.0      0.0   \n...    ...                  ...           ...            ...      ...   \n9995  44.0                  0.0        1700.0            2.0      1.0   \n9996  51.0                  0.0        1700.0            2.0      0.0   \n9997  34.0                  1.0        1250.0            1.0      1.0   \n9998  33.0                  3.0        1100.0            1.0      0.0   \n9999  35.0                  0.0        1450.0            1.0      0.0   \n\n      chemistry  biology  english  geography  history  mean_exam_points  \n0           0.0      0.0      0.0        1.0      0.0              63.0  \n1           0.0      0.0      0.0        0.0      0.0              86.0  \n2           0.0      0.0      0.0        0.0      0.0              53.0  \n3           0.0      0.0      0.0        0.0      0.0              56.0  \n4           0.0      0.0      0.0        0.0      0.0              59.0  \n...         ...      ...      ...        ...      ...               ...  \n9995        1.0      0.0      0.0        0.0      0.0              78.0  \n9996        0.0      0.0      0.0        0.0      0.0              64.0  \n9997        0.0      0.0      0.0        0.0      0.0              58.0  \n9998        0.0      0.0      0.0        0.0      0.0              51.0  \n9999        0.0      0.0      0.0        0.0      0.0              59.0  \n\n[10000 rows x 11 columns]",
      "text/html": "<div>\n<style scoped>\n    .dataframe tbody tr th:only-of-type {\n        vertical-align: middle;\n    }\n\n    .dataframe tbody tr th {\n        vertical-align: top;\n    }\n\n    .dataframe thead th {\n        text-align: right;\n    }\n</style>\n<table border=\"1\" class=\"dataframe\">\n  <thead>\n    <tr style=\"text-align: right;\">\n      <th></th>\n      <th>age</th>\n      <th>years_of_experience</th>\n      <th>lesson_price</th>\n      <th>qualification</th>\n      <th>physics</th>\n      <th>chemistry</th>\n      <th>biology</th>\n      <th>english</th>\n      <th>geography</th>\n      <th>history</th>\n      <th>mean_exam_points</th>\n    </tr>\n  </thead>\n  <tbody>\n    <tr>\n      <th>0</th>\n      <td>40.0</td>\n      <td>0.0</td>\n      <td>1400.0</td>\n      <td>1.0</td>\n      <td>1.0</td>\n      <td>0.0</td>\n      <td>0.0</td>\n      <td>0.0</td>\n      <td>1.0</td>\n      <td>0.0</td>\n      <td>63.0</td>\n    </tr>\n    <tr>\n      <th>1</th>\n      <td>48.0</td>\n      <td>4.0</td>\n      <td>2850.0</td>\n      <td>3.0</td>\n      <td>1.0</td>\n      <td>0.0</td>\n      <td>0.0</td>\n      <td>0.0</td>\n      <td>0.0</td>\n      <td>0.0</td>\n      <td>86.0</td>\n    </tr>\n    <tr>\n      <th>2</th>\n      <td>39.0</td>\n      <td>0.0</td>\n      <td>1200.0</td>\n      <td>1.0</td>\n      <td>0.0</td>\n      <td>0.0</td>\n      <td>0.0</td>\n      <td>0.0</td>\n      <td>0.0</td>\n      <td>0.0</td>\n      <td>53.0</td>\n    </tr>\n    <tr>\n      <th>3</th>\n      <td>46.0</td>\n      <td>5.0</td>\n      <td>1400.0</td>\n      <td>1.0</td>\n      <td>0.0</td>\n      <td>0.0</td>\n      <td>0.0</td>\n      <td>0.0</td>\n      <td>0.0</td>\n      <td>0.0</td>\n      <td>56.0</td>\n    </tr>\n    <tr>\n      <th>4</th>\n      <td>43.0</td>\n      <td>1.0</td>\n      <td>1500.0</td>\n      <td>1.0</td>\n      <td>0.0</td>\n      <td>0.0</td>\n      <td>0.0</td>\n      <td>0.0</td>\n      <td>0.0</td>\n      <td>0.0</td>\n      <td>59.0</td>\n    </tr>\n    <tr>\n      <th>...</th>\n      <td>...</td>\n      <td>...</td>\n      <td>...</td>\n      <td>...</td>\n      <td>...</td>\n      <td>...</td>\n      <td>...</td>\n      <td>...</td>\n      <td>...</td>\n      <td>...</td>\n      <td>...</td>\n    </tr>\n    <tr>\n      <th>9995</th>\n      <td>44.0</td>\n      <td>0.0</td>\n      <td>1700.0</td>\n      <td>2.0</td>\n      <td>1.0</td>\n      <td>1.0</td>\n      <td>0.0</td>\n      <td>0.0</td>\n      <td>0.0</td>\n      <td>0.0</td>\n      <td>78.0</td>\n    </tr>\n    <tr>\n      <th>9996</th>\n      <td>51.0</td>\n      <td>0.0</td>\n      <td>1700.0</td>\n      <td>2.0</td>\n      <td>0.0</td>\n      <td>0.0</td>\n      <td>0.0</td>\n      <td>0.0</td>\n      <td>0.0</td>\n      <td>0.0</td>\n      <td>64.0</td>\n    </tr>\n    <tr>\n      <th>9997</th>\n      <td>34.0</td>\n      <td>1.0</td>\n      <td>1250.0</td>\n      <td>1.0</td>\n      <td>1.0</td>\n      <td>0.0</td>\n      <td>0.0</td>\n      <td>0.0</td>\n      <td>0.0</td>\n      <td>0.0</td>\n      <td>58.0</td>\n    </tr>\n    <tr>\n      <th>9998</th>\n      <td>33.0</td>\n      <td>3.0</td>\n      <td>1100.0</td>\n      <td>1.0</td>\n      <td>0.0</td>\n      <td>0.0</td>\n      <td>0.0</td>\n      <td>0.0</td>\n      <td>0.0</td>\n      <td>0.0</td>\n      <td>51.0</td>\n    </tr>\n    <tr>\n      <th>9999</th>\n      <td>35.0</td>\n      <td>0.0</td>\n      <td>1450.0</td>\n      <td>1.0</td>\n      <td>0.0</td>\n      <td>0.0</td>\n      <td>0.0</td>\n      <td>0.0</td>\n      <td>0.0</td>\n      <td>0.0</td>\n      <td>59.0</td>\n    </tr>\n  </tbody>\n</table>\n<p>10000 rows × 11 columns</p>\n</div>"
     },
     "execution_count": 15,
     "metadata": {},
     "output_type": "execute_result"
    }
   ],
   "source": [
    "train.drop(columns='Id', inplace=True)\n",
    "train"
   ],
   "metadata": {
    "collapsed": false,
    "pycharm": {
     "name": "#%%\n"
    }
   }
  },
  {
   "cell_type": "code",
   "execution_count": 16,
   "outputs": [
    {
     "name": "stdout",
     "output_type": "stream",
     "text": [
      "<class 'pandas.core.frame.DataFrame'>\n",
      "RangeIndex: 10000 entries, 0 to 9999\n",
      "Data columns (total 11 columns):\n",
      " #   Column               Non-Null Count  Dtype  \n",
      "---  ------               --------------  -----  \n",
      " 0   age                  10000 non-null  float64\n",
      " 1   years_of_experience  10000 non-null  float64\n",
      " 2   lesson_price         10000 non-null  float64\n",
      " 3   qualification        10000 non-null  float64\n",
      " 4   physics              10000 non-null  float64\n",
      " 5   chemistry            10000 non-null  float64\n",
      " 6   biology              10000 non-null  float64\n",
      " 7   english              10000 non-null  float64\n",
      " 8   geography            10000 non-null  float64\n",
      " 9   history              10000 non-null  float64\n",
      " 10  mean_exam_points     10000 non-null  float64\n",
      "dtypes: float64(11)\n",
      "memory usage: 859.5 KB\n"
     ]
    }
   ],
   "source": [
    "train.info()"
   ],
   "metadata": {
    "collapsed": false,
    "pycharm": {
     "name": "#%%\n"
    }
   }
  },
  {
   "cell_type": "code",
   "execution_count": 10,
   "outputs": [
    {
     "data": {
      "text/plain": "                       count       mean          std    min      25%     50%  \\\nId                   10000.0  4999.5000  2886.895680    0.0  2499.75  4999.5   \nage                  10000.0    45.8780     8.043929   23.0    40.00    46.0   \nyears_of_experience  10000.0     1.9868     1.772213    0.0     0.00     2.0   \nlesson_price         10000.0  1699.1050   524.886654  200.0  1300.00  1500.0   \nqualification        10000.0     1.7195     0.792264    1.0     1.00     2.0   \nphysics              10000.0     0.3750     0.484147    0.0     0.00     0.0   \nchemistry            10000.0     0.1329     0.339484    0.0     0.00     0.0   \nbiology              10000.0     0.1096     0.312406    0.0     0.00     0.0   \nenglish              10000.0     0.0537     0.225436    0.0     0.00     0.0   \ngeography            10000.0     0.0321     0.176274    0.0     0.00     0.0   \nhistory              10000.0     0.0194     0.137933    0.0     0.00     0.0   \nmean_exam_points     10000.0    64.3408    13.536823   32.0    55.00    63.0   \n\n                         75%     max  \nId                   7499.25  9999.0  \nage                    51.00    68.0  \nyears_of_experience     3.00    10.0  \nlesson_price         2150.00  3950.0  \nqualification           2.00     4.0  \nphysics                 1.00     1.0  \nchemistry               0.00     1.0  \nbiology                 0.00     1.0  \nenglish                 0.00     1.0  \ngeography               0.00     1.0  \nhistory                 0.00     1.0  \nmean_exam_points       73.00   100.0  ",
      "text/html": "<div>\n<style scoped>\n    .dataframe tbody tr th:only-of-type {\n        vertical-align: middle;\n    }\n\n    .dataframe tbody tr th {\n        vertical-align: top;\n    }\n\n    .dataframe thead th {\n        text-align: right;\n    }\n</style>\n<table border=\"1\" class=\"dataframe\">\n  <thead>\n    <tr style=\"text-align: right;\">\n      <th></th>\n      <th>count</th>\n      <th>mean</th>\n      <th>std</th>\n      <th>min</th>\n      <th>25%</th>\n      <th>50%</th>\n      <th>75%</th>\n      <th>max</th>\n    </tr>\n  </thead>\n  <tbody>\n    <tr>\n      <th>Id</th>\n      <td>10000.0</td>\n      <td>4999.5000</td>\n      <td>2886.895680</td>\n      <td>0.0</td>\n      <td>2499.75</td>\n      <td>4999.5</td>\n      <td>7499.25</td>\n      <td>9999.0</td>\n    </tr>\n    <tr>\n      <th>age</th>\n      <td>10000.0</td>\n      <td>45.8780</td>\n      <td>8.043929</td>\n      <td>23.0</td>\n      <td>40.00</td>\n      <td>46.0</td>\n      <td>51.00</td>\n      <td>68.0</td>\n    </tr>\n    <tr>\n      <th>years_of_experience</th>\n      <td>10000.0</td>\n      <td>1.9868</td>\n      <td>1.772213</td>\n      <td>0.0</td>\n      <td>0.00</td>\n      <td>2.0</td>\n      <td>3.00</td>\n      <td>10.0</td>\n    </tr>\n    <tr>\n      <th>lesson_price</th>\n      <td>10000.0</td>\n      <td>1699.1050</td>\n      <td>524.886654</td>\n      <td>200.0</td>\n      <td>1300.00</td>\n      <td>1500.0</td>\n      <td>2150.00</td>\n      <td>3950.0</td>\n    </tr>\n    <tr>\n      <th>qualification</th>\n      <td>10000.0</td>\n      <td>1.7195</td>\n      <td>0.792264</td>\n      <td>1.0</td>\n      <td>1.00</td>\n      <td>2.0</td>\n      <td>2.00</td>\n      <td>4.0</td>\n    </tr>\n    <tr>\n      <th>physics</th>\n      <td>10000.0</td>\n      <td>0.3750</td>\n      <td>0.484147</td>\n      <td>0.0</td>\n      <td>0.00</td>\n      <td>0.0</td>\n      <td>1.00</td>\n      <td>1.0</td>\n    </tr>\n    <tr>\n      <th>chemistry</th>\n      <td>10000.0</td>\n      <td>0.1329</td>\n      <td>0.339484</td>\n      <td>0.0</td>\n      <td>0.00</td>\n      <td>0.0</td>\n      <td>0.00</td>\n      <td>1.0</td>\n    </tr>\n    <tr>\n      <th>biology</th>\n      <td>10000.0</td>\n      <td>0.1096</td>\n      <td>0.312406</td>\n      <td>0.0</td>\n      <td>0.00</td>\n      <td>0.0</td>\n      <td>0.00</td>\n      <td>1.0</td>\n    </tr>\n    <tr>\n      <th>english</th>\n      <td>10000.0</td>\n      <td>0.0537</td>\n      <td>0.225436</td>\n      <td>0.0</td>\n      <td>0.00</td>\n      <td>0.0</td>\n      <td>0.00</td>\n      <td>1.0</td>\n    </tr>\n    <tr>\n      <th>geography</th>\n      <td>10000.0</td>\n      <td>0.0321</td>\n      <td>0.176274</td>\n      <td>0.0</td>\n      <td>0.00</td>\n      <td>0.0</td>\n      <td>0.00</td>\n      <td>1.0</td>\n    </tr>\n    <tr>\n      <th>history</th>\n      <td>10000.0</td>\n      <td>0.0194</td>\n      <td>0.137933</td>\n      <td>0.0</td>\n      <td>0.00</td>\n      <td>0.0</td>\n      <td>0.00</td>\n      <td>1.0</td>\n    </tr>\n    <tr>\n      <th>mean_exam_points</th>\n      <td>10000.0</td>\n      <td>64.3408</td>\n      <td>13.536823</td>\n      <td>32.0</td>\n      <td>55.00</td>\n      <td>63.0</td>\n      <td>73.00</td>\n      <td>100.0</td>\n    </tr>\n  </tbody>\n</table>\n</div>"
     },
     "execution_count": 10,
     "metadata": {},
     "output_type": "execute_result"
    }
   ],
   "source": [
    "train.describe().T\n"
   ],
   "metadata": {
    "collapsed": false,
    "pycharm": {
     "name": "#%%\n"
    }
   }
  },
  {
   "cell_type": "code",
   "execution_count": 19,
   "outputs": [
    {
     "data": {
      "text/plain": "age                    0\nyears_of_experience    0\nlesson_price           0\nqualification          0\nphysics                0\nchemistry              0\nbiology                0\nenglish                0\ngeography              0\nhistory                0\nmean_exam_points       0\ndtype: int64"
     },
     "execution_count": 19,
     "metadata": {},
     "output_type": "execute_result"
    }
   ],
   "source": [
    "train.isnull().sum()"
   ],
   "metadata": {
    "collapsed": false,
    "pycharm": {
     "name": "#%%\n"
    }
   }
  },
  {
   "cell_type": "markdown",
   "source": [
    "> пропуски отсутствуют\n"
   ],
   "metadata": {
    "collapsed": false,
    "pycharm": {
     "name": "#%% md\n"
    }
   }
  },
  {
   "cell_type": "code",
   "execution_count": null,
   "outputs": [],
   "source": [
    "from sklearn.tree import DecisionTreeRegressor\n",
    "from sklearn.tree import DecisionTreeClassifier"
   ],
   "metadata": {
    "collapsed": false,
    "pycharm": {
     "name": "#%%\n"
    }
   }
  },
  {
   "cell_type": "markdown",
   "source": [
    "### Разведочный анализ данных\n"
   ],
   "metadata": {
    "collapsed": false
   }
  },
  {
   "cell_type": "code",
   "execution_count": 27,
   "outputs": [],
   "source": [
    "# первый взгляд на параметр\n",
    "def first_look(Series1, max_count=0, bins=10, quan=0.999, is_correct_outlier=False, is_show_stat=False):\n",
    "    Series = Series1.copy()\n",
    "    # простая корректировка по выбросам\n",
    "    if is_correct_outlier:\n",
    "        Series.drop(Series[Series > Series.quantile(quan)].index, inplace=True)\n",
    "    # расчет основных значений\n",
    "    Series_mean = round(Series.mean(), 2)\n",
    "    Series_median = Series.median()\n",
    "    Series_name = Series.name\n",
    "    # расчет максимального выброса\n",
    "    max_count = np.histogram(Series, bins=bins)[0].max()\n",
    "\n",
    "    plt.figure(figsize=(16, 8))\n",
    "    Series.hist(bins=bins)\n",
    "    plt.ylabel('Count')\n",
    "    plt.xlabel(Series_name)\n",
    "    # отображение среднего и медианы\n",
    "    y = np.linspace(0, max_count, bins)\n",
    "    plt.plot([Series_mean] * bins, y, label='mean  : {:,.2f}'.format(Series_mean), linewidth=4)\n",
    "    plt.plot([Series_median] * bins, y, label='median: {:,.2f}'.format(Series_median), linewidth=4)\n",
    "    plt.legend()\n",
    "    plt.title(Series_name + ' distribution')\n",
    "    plt.show()\n",
    "    if is_show_stat:\n",
    "        print(Series.describe())"
   ],
   "metadata": {
    "collapsed": false,
    "pycharm": {
     "name": "#%%\n"
    }
   }
  },
  {
   "cell_type": "markdown",
   "source": [
    "#### Признак **mean_exam_points** - средний балл (целевая переменная)"
   ],
   "metadata": {
    "collapsed": false,
    "pycharm": {
     "name": "#%% md\n"
    }
   }
  },
  {
   "cell_type": "code",
   "execution_count": 105,
   "outputs": [
    {
     "data": {
      "text/plain": "<Figure size 1152x576 with 1 Axes>",
      "image/png": "[encoded data removed]"
     },
     "metadata": {
      "needs_background": "light"
     },
     "output_type": "display_data"
    },
    {
     "name": "stdout",
     "output_type": "stream",
     "text": [
      "count    10000.000000\n",
      "mean        64.340800\n",
      "std         13.536823\n",
      "min         32.000000\n",
      "25%         55.000000\n",
      "50%         63.000000\n",
      "75%         73.000000\n",
      "max        100.000000\n",
      "Name: mean_exam_points, dtype: float64\n"
     ]
    }
   ],
   "source": [
    "first_look(train.mean_exam_points, bins=11, is_show_stat=True)"
   ],
   "metadata": {
    "collapsed": false,
    "pycharm": {
     "name": "#%%\n"
    }
   }
  },
  {
   "cell_type": "markdown",
   "source": [
    "> Значения признака **mean_exam_points** находятся в пределах экзаменационных оценок. Выбросы отсутствуют.\n",
    "> Количество оценок при росте значения падают.\n"
   ],
   "metadata": {
    "collapsed": false
   }
  },
  {
   "cell_type": "markdown",
   "source": [
    "#### Признак age - возраст\n"
   ],
   "metadata": {
    "collapsed": false
   }
  },
  {
   "cell_type": "code",
   "execution_count": 28,
   "outputs": [
    {
     "data": {
      "text/plain": "<Figure size 1152x576 with 1 Axes>",
      "image/png": "[encoded data removed]"
     },
     "metadata": {
      "needs_background": "light"
     },
     "output_type": "display_data"
    },
    {
     "name": "stdout",
     "output_type": "stream",
     "text": [
      "count    10000.000000\n",
      "mean        45.878000\n",
      "std          8.043929\n",
      "min         23.000000\n",
      "25%         40.000000\n",
      "50%         46.000000\n",
      "75%         51.000000\n",
      "max         68.000000\n",
      "Name: age, dtype: float64\n"
     ]
    }
   ],
   "source": [
    "first_look(train.age, is_show_stat=True)\n"
   ],
   "metadata": {
    "collapsed": false,
    "pycharm": {
     "name": "#%%\n"
    }
   }
  },
  {
   "cell_type": "markdown",
   "source": [
    "> Значения признака **age** соответствует возрасту человека. Выбросы отсутствуют. Медианное значение - 46 лет."
   ],
   "metadata": {
    "collapsed": false,
    "pycharm": {
     "name": "#%% md\n"
    }
   }
  },
  {
   "cell_type": "markdown",
   "source": [
    "#### Признак **years-of-experience** - Количество лет в профессии"
   ],
   "metadata": {
    "collapsed": false
   }
  },
  {
   "cell_type": "code",
   "execution_count": 46,
   "outputs": [
    {
     "data": {
      "text/plain": "<Figure size 1152x576 with 1 Axes>",
      "image/png": "[encoded data removed]"
     },
     "metadata": {
      "needs_background": "light"
     },
     "output_type": "display_data"
    },
    {
     "name": "stdout",
     "output_type": "stream",
     "text": [
      "count    10000.000000\n",
      "mean         1.986800\n",
      "std          1.772213\n",
      "min          0.000000\n",
      "25%          0.000000\n",
      "50%          2.000000\n",
      "75%          3.000000\n",
      "max         10.000000\n",
      "Name: years_of_experience, dtype: float64\n"
     ]
    }
   ],
   "source": [
    "first_look(train.years_of_experience, bins=11, is_show_stat=True)"
   ],
   "metadata": {
    "collapsed": false,
    "pycharm": {
     "name": "#%%\n"
    }
   }
  },
  {
   "cell_type": "code",
   "execution_count": 48,
   "outputs": [
    {
     "data": {
      "text/plain": "(2785, 0.2785)"
     },
     "execution_count": 48,
     "metadata": {},
     "output_type": "execute_result"
    }
   ],
   "source": [
    "train[train.years_of_experience == 0].count()[0], train[train.years_of_experience == 0].count()[0] / train.count()[0]\n"
   ],
   "metadata": {
    "collapsed": false,
    "pycharm": {
     "name": "#%%\n"
    }
   }
  },
  {
   "cell_type": "markdown",
   "source": [
    "> Значения признака **years_of_experience** В целом соответсвуют предметной области. Однако довольно много значений\n",
    "> с нулевым значением (2700), это около 30% от всех данных\n",
    ">"
   ],
   "metadata": {
    "collapsed": false,
    "pycharm": {
     "name": "#%% md\n"
    }
   }
  },
  {
   "cell_type": "markdown",
   "source": [
    ">#### Гипотеза-03-EXP-LOW\n",
    "Признак **years_of_experience** иммее 30% нулевых значений - мало опыта?\n",
    "Выделить в отдельную категорию с years_of_experience=0"
   ],
   "metadata": {
    "collapsed": false
   }
  },
  {
   "cell_type": "markdown",
   "source": [
    ">#### Гипотеза-04-EXP-BL\n",
    "Признак **years_of_experience** иммее 30% нулевых значений - не заполнен?\n",
    "\n"
   ],
   "metadata": {
    "collapsed": false
   }
  },
  {
   "cell_type": "markdown",
   "source": [
    "#### Признак **lesson_price** - Стоимость урока\n"
   ],
   "metadata": {
    "collapsed": false
   }
  },
  {
   "cell_type": "code",
   "execution_count": 43,
   "outputs": [
    {
     "data": {
      "text/plain": "<Figure size 1152x576 with 1 Axes>",
      "image/png": "[encoded data removed]"
     },
     "metadata": {
      "needs_background": "light"
     },
     "output_type": "display_data"
    },
    {
     "name": "stdout",
     "output_type": "stream",
     "text": [
      "count    10000.000000\n",
      "mean      1699.105000\n",
      "std        524.886654\n",
      "min        200.000000\n",
      "25%       1300.000000\n",
      "50%       1500.000000\n",
      "75%       2150.000000\n",
      "max       3950.000000\n",
      "Name: lesson_price, dtype: float64\n"
     ]
    }
   ],
   "source": [
    "first_look(train.lesson_price, bins=11, is_show_stat=True)\n"
   ],
   "metadata": {
    "collapsed": false,
    "pycharm": {
     "name": "#%%\n"
    }
   }
  },
  {
   "cell_type": "code",
   "execution_count": 45,
   "outputs": [
    {
     "data": {
      "text/plain": "(238, 0.0238)"
     },
     "execution_count": 45,
     "metadata": {},
     "output_type": "execute_result"
    }
   ],
   "source": [
    "train[train.lesson_price < 1000].count()[0], train[train.lesson_price < 1000].count()[0] / train.count()[0]"
   ],
   "metadata": {
    "collapsed": false,
    "pycharm": {
     "name": "#%%\n"
    }
   }
  },
  {
   "cell_type": "markdown",
   "source": [
    "> Значения признака **lesson_price** В целом соответствуют предметной области. Однако стоимость урока меньше 1000 может\n",
    "> быть указана ошибочно или, например, в рекламных целях. Таких значений 2%.\n",
    ">\n"
   ],
   "metadata": {
    "collapsed": false
   }
  },
  {
   "cell_type": "markdown",
   "source": [
    "#### Признак **qualification** - Квалификация"
   ],
   "metadata": {
    "collapsed": false
   }
  },
  {
   "cell_type": "code",
   "execution_count": 115,
   "outputs": [
    {
     "data": {
      "text/plain": "<Figure size 1152x576 with 1 Axes>",
      "image/png": "[encoded data removed]"
     },
     "metadata": {
      "needs_background": "light"
     },
     "output_type": "display_data"
    }
   ],
   "source": [
    "first_look(train.qualification, bins=4)"
   ],
   "metadata": {
    "collapsed": false,
    "pycharm": {
     "name": "#%%\n"
    }
   }
  },
  {
   "cell_type": "code",
   "execution_count": 53,
   "outputs": [
    {
     "data": {
      "text/plain": "1.0    4884\n2.0    3087\n3.0    1979\n4.0      50\nName: qualification, dtype: int64"
     },
     "execution_count": 53,
     "metadata": {},
     "output_type": "execute_result"
    }
   ],
   "source": [
    "train.qualification.value_counts()"
   ],
   "metadata": {
    "collapsed": false,
    "pycharm": {
     "name": "#%%\n"
    }
   }
  },
  {
   "cell_type": "markdown",
   "source": [
    "**Точечный анализ: признаки возраст, средний балл при квалификации равной 4**"
   ],
   "metadata": {
    "collapsed": false
   }
  },
  {
   "cell_type": "markdown",
   "source": [
    "***Исходные данные***"
   ],
   "metadata": {
    "collapsed": false,
    "pycharm": {
     "name": "#%% md\n"
    }
   }
  },
  {
   "cell_type": "code",
   "execution_count": 106,
   "outputs": [
    {
     "data": {
      "text/plain": "                    count     mean        std   min   25%   50%   75%    max\nage               10000.0  45.8780   8.043929  23.0  40.0  46.0  51.0   68.0\nmean_exam_points  10000.0  64.3408  13.536823  32.0  55.0  63.0  73.0  100.0",
      "text/html": "<div>\n<style scoped>\n    .dataframe tbody tr th:only-of-type {\n        vertical-align: middle;\n    }\n\n    .dataframe tbody tr th {\n        vertical-align: top;\n    }\n\n    .dataframe thead th {\n        text-align: right;\n    }\n</style>\n<table border=\"1\" class=\"dataframe\">\n  <thead>\n    <tr style=\"text-align: right;\">\n      <th></th>\n      <th>count</th>\n      <th>mean</th>\n      <th>std</th>\n      <th>min</th>\n      <th>25%</th>\n      <th>50%</th>\n      <th>75%</th>\n      <th>max</th>\n    </tr>\n  </thead>\n  <tbody>\n    <tr>\n      <th>age</th>\n      <td>10000.0</td>\n      <td>45.8780</td>\n      <td>8.043929</td>\n      <td>23.0</td>\n      <td>40.0</td>\n      <td>46.0</td>\n      <td>51.0</td>\n      <td>68.0</td>\n    </tr>\n    <tr>\n      <th>mean_exam_points</th>\n      <td>10000.0</td>\n      <td>64.3408</td>\n      <td>13.536823</td>\n      <td>32.0</td>\n      <td>55.0</td>\n      <td>63.0</td>\n      <td>73.0</td>\n      <td>100.0</td>\n    </tr>\n  </tbody>\n</table>\n</div>"
     },
     "execution_count": 106,
     "metadata": {},
     "output_type": "execute_result"
    }
   ],
   "source": [
    "train.describe().loc[:, ['age', 'mean_exam_points']].T\n"
   ],
   "metadata": {
    "collapsed": false,
    "pycharm": {
     "name": "#%%\n"
    }
   }
  },
  {
   "cell_type": "markdown",
   "source": [
    "***Фильтр по высшей квалификации***"
   ],
   "metadata": {
    "collapsed": false
   }
  },
  {
   "cell_type": "code",
   "execution_count": 111,
   "outputs": [
    {
     "data": {
      "text/plain": "                  count   mean       std   min   25%   50%   75%   max\nage                50.0  45.90  8.490691  25.0  41.0  45.0  51.0  62.0\nmean_exam_points   50.0  84.66  4.574151  76.0  81.0  84.0  87.0  94.0",
      "text/html": "<div>\n<style scoped>\n    .dataframe tbody tr th:only-of-type {\n        vertical-align: middle;\n    }\n\n    .dataframe tbody tr th {\n        vertical-align: top;\n    }\n\n    .dataframe thead th {\n        text-align: right;\n    }\n</style>\n<table border=\"1\" class=\"dataframe\">\n  <thead>\n    <tr style=\"text-align: right;\">\n      <th></th>\n      <th>count</th>\n      <th>mean</th>\n      <th>std</th>\n      <th>min</th>\n      <th>25%</th>\n      <th>50%</th>\n      <th>75%</th>\n      <th>max</th>\n    </tr>\n  </thead>\n  <tbody>\n    <tr>\n      <th>age</th>\n      <td>50.0</td>\n      <td>45.90</td>\n      <td>8.490691</td>\n      <td>25.0</td>\n      <td>41.0</td>\n      <td>45.0</td>\n      <td>51.0</td>\n      <td>62.0</td>\n    </tr>\n    <tr>\n      <th>mean_exam_points</th>\n      <td>50.0</td>\n      <td>84.66</td>\n      <td>4.574151</td>\n      <td>76.0</td>\n      <td>81.0</td>\n      <td>84.0</td>\n      <td>87.0</td>\n      <td>94.0</td>\n    </tr>\n  </tbody>\n</table>\n</div>"
     },
     "execution_count": 111,
     "metadata": {},
     "output_type": "execute_result"
    }
   ],
   "source": [
    "train[train.qualification == 4].describe().loc[:, ['age', 'mean_exam_points']].T"
   ],
   "metadata": {
    "collapsed": false,
    "pycharm": {
     "name": "#%%\n"
    }
   }
  },
  {
   "cell_type": "markdown",
   "source": [
    "> Вывод: в области объектов с высоким значением признака квалификации значение средней\n",
    "> оценки увеличилось с 64 до 85. Это говорит о сильной корреляции. При этом влияние возраста практически отсутсвует."
   ],
   "metadata": {
    "collapsed": false,
    "pycharm": {
     "name": "#%% md\n"
    }
   }
  },
  {
   "cell_type": "markdown",
   "source": [
    "#### Признаки **physics** **chemistry**\t**biology**\t**english**\t**geography** **history** - дополнительная квалификация"
   ],
   "metadata": {
    "collapsed": false
   }
  },
  {
   "cell_type": "code",
   "execution_count": 114,
   "outputs": [
    {
     "data": {
      "text/plain": "physics      3750.0\nchemistry    1329.0\nbiology      1096.0\nenglish       537.0\ngeography     321.0\nhistory       194.0\ndtype: float64"
     },
     "execution_count": 114,
     "metadata": {},
     "output_type": "execute_result"
    }
   ],
   "source": [
    "train.loc[:, ['physics', 'chemistry', 'biology', 'english', 'geography', 'history']].sum()"
   ],
   "metadata": {
    "collapsed": false,
    "pycharm": {
     "name": "#%%\n"
    }
   }
  },
  {
   "cell_type": "markdown",
   "source": [
    "> Признаков приличное количество, поэтому проверка корреляции может иметь существенное значение\n",
    "\n",
    ">#### Гипотеза-01-EXT\n",
    "Проверить корреляцию признаков **physics** **chemistry** на целевую переменную"
   ],
   "metadata": {
    "collapsed": false
   }
  },
  {
   "cell_type": "markdown",
   "source": [
    "### Конструирование и выбор признаков.\n"
   ],
   "metadata": {
    "collapsed": false
   }
  },
  {
   "cell_type": "markdown",
   "source": [
    "> Проверим связь признаков (корреляцию) с целевой переменной.\n",
    ">"
   ],
   "metadata": {
    "collapsed": false
   }
  },
  {
   "cell_type": "code",
   "source": [
    "correlations_data = train.corr()['mean_exam_points'].sort_values()\n",
    "correlations_data"
   ],
   "metadata": {
    "collapsed": false,
    "pycharm": {
     "name": "#%%\n"
    }
   },
   "execution_count": 126,
   "outputs": [
    {
     "data": {
      "text/plain": "age                   -0.007646\nhistory               -0.000113\nenglish                0.013174\ngeography              0.014401\nchemistry              0.017825\nbiology                0.023022\nphysics                0.187726\nyears_of_experience    0.205417\nlesson_price           0.721179\nqualification          0.755963\nmean_exam_points       1.000000\nName: mean_exam_points, dtype: float64"
     },
     "execution_count": 126,
     "metadata": {},
     "output_type": "execute_result"
    }
   ]
  },
  {
   "cell_type": "markdown",
   "source": [
    "> Отфильтруем, те признаки влияние которых меньше 5%"
   ],
   "metadata": {
    "collapsed": false
   }
  },
  {
   "cell_type": "code",
   "execution_count": 134,
   "outputs": [
    {
     "data": {
      "text/plain": "age                   -0.007646\nhistory               -0.000113\nenglish                0.013174\ngeography              0.014401\nchemistry              0.017825\nbiology                0.023022\nphysics                     NaN\nyears_of_experience         NaN\nlesson_price                NaN\nqualification               NaN\nmean_exam_points            NaN\nName: mean_exam_points, dtype: float64"
     },
     "execution_count": 134,
     "metadata": {},
     "output_type": "execute_result"
    }
   ],
   "source": [
    "correlations_data.where(correlations_data < 0.05)"
   ],
   "metadata": {
    "collapsed": false,
    "pycharm": {
     "name": "#%%\n"
    }
   }
  },
  {
   "cell_type": "markdown",
   "source": [
    ">#### Гипотеза-05-DEL\n",
    "> Удалить признаки которые, не влияют на целевую переменную.\n",
    "\n",
    ">age, history, english, geography, chemistry, biology\n"
   ],
   "metadata": {
    "collapsed": false,
    "pycharm": {
     "name": "#%% md\n"
    }
   }
  },
  {
   "cell_type": "markdown",
   "source": [
    "### Анализ влияния признаков на целевую переменную"
   ],
   "metadata": {
    "collapsed": false
   }
  },
  {
   "cell_type": "markdown",
   "source": [
    "> Проведем анализ влияния каждого признака на целевую переменную"
   ],
   "metadata": {
    "collapsed": false
   }
  },
  {
   "cell_type": "code",
   "execution_count": 150,
   "outputs": [
    {
     "data": {
      "text/plain": "<matplotlib.collections.PathCollection at 0x24e7aa1fb20>"
     },
     "execution_count": 150,
     "metadata": {},
     "output_type": "execute_result"
    },
    {
     "data": {
      "text/plain": "<Figure size 432x288 with 1 Axes>",
      "image/png": "[encoded data removed]"
     },
     "metadata": {
      "needs_background": "light"
     },
     "output_type": "display_data"
    }
   ],
   "source": [
    "plt.scatter(train.mean_exam_points, train.lesson_price)"
   ],
   "metadata": {
    "collapsed": false,
    "pycharm": {
     "name": "#%%\n"
    }
   }
  },
  {
   "cell_type": "markdown",
   "source": [
    "> Целевая переменная имеет сильную значимую линейную зависимость от признака стоимость урока"
   ],
   "metadata": {
    "collapsed": false
   }
  },
  {
   "cell_type": "code",
   "execution_count": 151,
   "outputs": [
    {
     "data": {
      "text/plain": "<matplotlib.collections.PathCollection at 0x24e7b0fbf10>"
     },
     "execution_count": 151,
     "metadata": {},
     "output_type": "execute_result"
    },
    {
     "data": {
      "text/plain": "<Figure size 432x288 with 1 Axes>",
      "image/png": "[encoded data removed]"
     },
     "metadata": {
      "needs_background": "light"
     },
     "output_type": "display_data"
    }
   ],
   "source": [
    "plt.scatter(train.mean_exam_points, train.years_of_experience, marker='|')"
   ],
   "metadata": {
    "collapsed": false,
    "pycharm": {
     "name": "#%%\n"
    }
   }
  },
  {
   "cell_type": "markdown",
   "source": [
    "> Целевая переменная имеет **слабую** значимую линейную зависимость от признака количества лет опыта"
   ],
   "metadata": {
    "collapsed": false
   }
  },
  {
   "cell_type": "code",
   "execution_count": 152,
   "outputs": [
    {
     "data": {
      "text/plain": "<matplotlib.collections.PathCollection at 0x24e7aa4d6a0>"
     },
     "execution_count": 152,
     "metadata": {},
     "output_type": "execute_result"
    },
    {
     "data": {
      "text/plain": "<Figure size 432x288 with 1 Axes>",
      "image/png": "[encoded data removed]"
     },
     "metadata": {
      "needs_background": "light"
     },
     "output_type": "display_data"
    }
   ],
   "source": [
    "plt.scatter(train.mean_exam_points, train.qualification, marker='s', linewidths=5)"
   ],
   "metadata": {
    "collapsed": false,
    "pycharm": {
     "name": "#%%\n"
    }
   }
  },
  {
   "cell_type": "markdown",
   "source": [
    "> Целевая переменная имеет **небольшую** значимую линейную зависимость от признака оценка квалификации\n"
   ],
   "metadata": {
    "collapsed": false,
    "pycharm": {
     "name": "#%% md\n"
    }
   }
  },
  {
   "cell_type": "code",
   "execution_count": 153,
   "outputs": [
    {
     "data": {
      "text/plain": "<matplotlib.collections.PathCollection at 0x24e7aa078e0>"
     },
     "execution_count": 153,
     "metadata": {},
     "output_type": "execute_result"
    },
    {
     "data": {
      "text/plain": "<Figure size 432x288 with 1 Axes>",
      "image/png": "[encoded data removed]"
     },
     "metadata": {
      "needs_background": "light"
     },
     "output_type": "display_data"
    }
   ],
   "source": [
    "plt.scatter(train.mean_exam_points, train.physics, marker='x')\n"
   ],
   "metadata": {
    "collapsed": false,
    "pycharm": {
     "name": "#%%\n"
    }
   }
  },
  {
   "cell_type": "markdown",
   "source": [
    "**Вывод:** При анализе выборочных (2-мерных) зависимостей слабо проявляется связь целевой переменной с признаками. Кроме того,\n",
    "признаки *оценка квалификации* и *преподование физики* имеют дискретный характер.\n",
    "\n",
    "**Вывод:** На дискретных признаках хорошо работают алгоритмы основанные на деревьях решений. Однако линейные модели\n",
    "исключать не будем\n"
   ],
   "metadata": {
    "collapsed": false,
    "pycharm": {
     "name": "#%% md\n"
    }
   }
  },
  {
   "cell_type": "markdown",
   "source": [
    "### Сравнение метрик нескольких моделей машинного обучения.\n"
   ],
   "metadata": {
    "collapsed": false,
    "pycharm": {
     "name": "#%% md\n"
    }
   }
  },
  {
   "cell_type": "markdown",
   "source": [
    "#### Линейная модель с обучением при помощи градиентного спуска"
   ],
   "metadata": {
    "collapsed": false
   }
  },
  {
   "cell_type": "code",
   "execution_count": 456,
   "outputs": [],
   "source": [
    "def r2(x, y):\n",
    "    correlation_matrix = np.corrcoef(x, y)\n",
    "    correlation_xy = correlation_matrix[0, 1]\n",
    "    r_squared = correlation_xy ** 2\n",
    "    return r_squared"
   ],
   "metadata": {
    "collapsed": false,
    "pycharm": {
     "name": "#%%\n"
    }
   }
  },
  {
   "cell_type": "code",
   "execution_count": 160,
   "outputs": [],
   "source": [
    "def calc_mse(y_orig, y_pred, w=0, tetta=0):\n",
    "    calc_err = np.mean((y_orig - y_pred) ** 2)\n",
    "    return calc_err"
   ],
   "metadata": {
    "collapsed": false,
    "pycharm": {
     "name": "#%%\n"
    }
   }
  },
  {
   "cell_type": "code",
   "execution_count": 381,
   "outputs": [],
   "source": [
    "class LogGD:\n",
    "    Way = []\n",
    "    Err = []\n",
    "    W = []\n",
    "    iteration = 0\n",
    "    alpha = 0\n",
    "    theta = 0\n",
    "\n",
    "    def __init__(self, iteration=100, alpha=1e-4, theta=0.1):\n",
    "        self.Way = []\n",
    "        self.Err = []\n",
    "        self.W = []\n",
    "        self.iteration = 0\n",
    "        self.set_params(iteration=iteration, alpha=alpha, theta=theta)\n",
    "        pass\n",
    "\n",
    "    def set_params(self, iteration=100, alpha=1e-4, theta=0.1):\n",
    "        self.iteration = iteration\n",
    "        self.alpha = alpha\n",
    "        self.theta = theta\n",
    "\n",
    "    def fit(self, X, y):\n",
    "        X = np.hstack((np.ones((X.shape[0], 1)), X))\n",
    "        w = np.random.randn(X.shape[1])\n",
    "        n = X.shape[0]\n",
    "        for i in range(1, self.iteration + 1):\n",
    "            y_pred = np.dot(w, X.T)\n",
    "            err = self.calc_mse(y, y_pred, w=w, theta=self.theta)\n",
    "            w -= (self.alpha * (1 / n * 2 * np.dot((y_pred - y), X)))\n",
    "            self.Way.append([i, w])\n",
    "            self.Err.append([err])\n",
    "        self.W = w\n",
    "\n",
    "    def calc_mse(self, y_orig, y_pred, w=0, theta=0):\n",
    "        calc_err = np.mean((y_orig - y_pred) ** 2)\n",
    "        return calc_err\n",
    "\n",
    "    def predict(self, X):\n",
    "        X = np.hstack((np.ones((X.shape[0], 1)), X))\n",
    "        y_pred = np.dot(self.W, X.T)\n",
    "        return y_pred"
   ],
   "metadata": {
    "collapsed": false,
    "pycharm": {
     "name": "#%%\n"
    }
   }
  },
  {
   "cell_type": "markdown",
   "source": [
    "Заготовка Pipe line для установки на проде"
   ],
   "metadata": {
    "collapsed": false,
    "pycharm": {
     "name": "#%% md\n"
    }
   }
  },
  {
   "cell_type": "code",
   "execution_count": 430,
   "outputs": [],
   "source": [
    "class DataPreprocessing:\n",
    "    \"\"\"Подготовка исходных данных\"\"\"\n",
    "\n",
    "    def __init__(self):\n",
    "        \"\"\"Параметры класса\"\"\"\n",
    "        self.medians = None\n",
    "\n",
    "    def fit(self, X):\n",
    "        pass\n",
    "\n",
    "    def transform(self, X):\n",
    "        \"\"\"Трансформация данных\"\"\"\n",
    "        X.loc[:, 'new_lesson_price'] = X['lesson_price'] / 1000\n",
    "        X.loc[:, 'new_age'] = X['age'] / 10\n",
    "\n",
    "        return X"
   ],
   "metadata": {
    "collapsed": false,
    "pycharm": {
     "name": "#%%\n"
    }
   }
  },
  {
   "cell_type": "code",
   "execution_count": 431,
   "outputs": [],
   "source": [
    "from sklearn.model_selection import train_test_split\n"
   ],
   "metadata": {
    "collapsed": false,
    "pycharm": {
     "name": "#%%\n"
    }
   }
  },
  {
   "cell_type": "markdown",
   "source": [
    "Отбор переменных"
   ],
   "metadata": {
    "collapsed": false,
    "pycharm": {
     "name": "#%% md\n"
    }
   }
  },
  {
   "cell_type": "code",
   "execution_count": 500,
   "outputs": [],
   "source": [
    "NUM_FEATURE_NAMES = [\n",
    "    # 'age', # -> new_age\n",
    "    'years_of_experience',\n",
    "    # 'lesson_price', # -> new_lesson_price\n",
    "    'qualification',\n",
    "    'physics',\n",
    "    # 'chemistry', 'biology', 'english', 'geography', 'history'\n",
    "]\n",
    "\n",
    "NEW_FEATURE_NAMES = ['new_lesson_price', 'new_age']\n",
    "\n",
    "SELECTED_FEATURE_NAMES = NUM_FEATURE_NAMES + NEW_FEATURE_NAMES"
   ],
   "metadata": {
    "collapsed": false,
    "pycharm": {
     "name": "#%%\n"
    }
   }
  },
  {
   "cell_type": "markdown",
   "source": [
    "Чтение данных и формирование отложенной выборки"
   ],
   "metadata": {
    "collapsed": false,
    "pycharm": {
     "name": "#%% md\n"
    }
   }
  },
  {
   "cell_type": "code",
   "execution_count": 501,
   "outputs": [],
   "source": [
    "train_df = pd.read_csv(TRAIN_DATASET_PATH)\n",
    "test_df = pd.read_csv(TEST_DATASET_PATH)\n",
    "\n",
    "X = train_df.drop(columns=TARGET_NAME)\n",
    "y = train_df[TARGET_NAME]\n",
    "\n",
    "X_train, X_valid, y_train, y_valid = train_test_split(X, y, test_size=0.33, random_state=13)"
   ],
   "metadata": {
    "collapsed": false,
    "pycharm": {
     "name": "#%%\n"
    }
   }
  },
  {
   "cell_type": "markdown",
   "source": [
    "Обработка данных"
   ],
   "metadata": {
    "collapsed": false,
    "pycharm": {
     "name": "#%% md\n"
    }
   }
  },
  {
   "cell_type": "code",
   "execution_count": 502,
   "outputs": [
    {
     "name": "stderr",
     "output_type": "stream",
     "text": [
      "c:\\projects\\geekbrainsai\\gb_data_analysis\\venv\\lib\\site-packages\\pandas\\core\\indexing.py:1667: SettingWithCopyWarning: \n",
      "A value is trying to be set on a copy of a slice from a DataFrame.\n",
      "Try using .loc[row_indexer,col_indexer] = value instead\n",
      "\n",
      "See the caveats in the documentation: https://pandas.pydata.org/pandas-docs/stable/user_guide/indexing.html#returning-a-view-versus-a-copy\n",
      "  self.obj[key] = value\n"
     ]
    },
    {
     "data": {
      "text/plain": "((6700, 13), (3300, 13), (10000, 13))"
     },
     "execution_count": 502,
     "metadata": {},
     "output_type": "execute_result"
    }
   ],
   "source": [
    "preprocessor = DataPreprocessing()\n",
    "preprocessor.fit(X_train)\n",
    "\n",
    "X_train = preprocessor.transform(X_train)\n",
    "X_valid = preprocessor.transform(X_valid)\n",
    "test_df = preprocessor.transform(test_df)\n",
    "\n",
    "X_train.shape, X_valid.shape, test_df.shape"
   ],
   "metadata": {
    "collapsed": false,
    "pycharm": {
     "name": "#%%\n"
    }
   }
  },
  {
   "cell_type": "markdown",
   "source": [
    "Отбор переменных"
   ],
   "metadata": {
    "collapsed": false,
    "pycharm": {
     "name": "#%% md\n"
    }
   }
  },
  {
   "cell_type": "code",
   "execution_count": 503,
   "outputs": [],
   "source": [
    "X_train = X_train[SELECTED_FEATURE_NAMES]\n",
    "X_valid = X_valid[SELECTED_FEATURE_NAMES]\n",
    "test_df = test_df[SELECTED_FEATURE_NAMES]"
   ],
   "metadata": {
    "collapsed": false,
    "pycharm": {
     "name": "#%%\n"
    }
   }
  },
  {
   "cell_type": "code",
   "execution_count": 504,
   "outputs": [
    {
     "data": {
      "text/plain": "      years_of_experience  qualification  physics  new_lesson_price  new_age\n962                   2.0            2.0      1.0              1.35      6.0\n3505                  0.0            1.0      0.0              1.50      3.7\n9654                  3.0            2.0      0.0              1.95      5.5\n8303                  2.0            2.0      1.0              2.00      3.3\n497                   0.0            1.0      1.0              1.25      3.7\n...                   ...            ...      ...               ...      ...\n5876                  3.0            2.0      1.0              1.45      5.5\n866                   1.0            1.0      0.0              1.30      4.4\n7696                  3.0            1.0      1.0              1.05      3.7\n74                    0.0            1.0      0.0              1.20      5.2\n338                   2.0            1.0      0.0              1.25      4.1\n\n[6700 rows x 5 columns]",
      "text/html": "<div>\n<style scoped>\n    .dataframe tbody tr th:only-of-type {\n        vertical-align: middle;\n    }\n\n    .dataframe tbody tr th {\n        vertical-align: top;\n    }\n\n    .dataframe thead th {\n        text-align: right;\n    }\n</style>\n<table border=\"1\" class=\"dataframe\">\n  <thead>\n    <tr style=\"text-align: right;\">\n      <th></th>\n      <th>years_of_experience</th>\n      <th>qualification</th>\n      <th>physics</th>\n      <th>new_lesson_price</th>\n      <th>new_age</th>\n    </tr>\n  </thead>\n  <tbody>\n    <tr>\n      <th>962</th>\n      <td>2.0</td>\n      <td>2.0</td>\n      <td>1.0</td>\n      <td>1.35</td>\n      <td>6.0</td>\n    </tr>\n    <tr>\n      <th>3505</th>\n      <td>0.0</td>\n      <td>1.0</td>\n      <td>0.0</td>\n      <td>1.50</td>\n      <td>3.7</td>\n    </tr>\n    <tr>\n      <th>9654</th>\n      <td>3.0</td>\n      <td>2.0</td>\n      <td>0.0</td>\n      <td>1.95</td>\n      <td>5.5</td>\n    </tr>\n    <tr>\n      <th>8303</th>\n      <td>2.0</td>\n      <td>2.0</td>\n      <td>1.0</td>\n      <td>2.00</td>\n      <td>3.3</td>\n    </tr>\n    <tr>\n      <th>497</th>\n      <td>0.0</td>\n      <td>1.0</td>\n      <td>1.0</td>\n      <td>1.25</td>\n      <td>3.7</td>\n    </tr>\n    <tr>\n      <th>...</th>\n      <td>...</td>\n      <td>...</td>\n      <td>...</td>\n      <td>...</td>\n      <td>...</td>\n    </tr>\n    <tr>\n      <th>5876</th>\n      <td>3.0</td>\n      <td>2.0</td>\n      <td>1.0</td>\n      <td>1.45</td>\n      <td>5.5</td>\n    </tr>\n    <tr>\n      <th>866</th>\n      <td>1.0</td>\n      <td>1.0</td>\n      <td>0.0</td>\n      <td>1.30</td>\n      <td>4.4</td>\n    </tr>\n    <tr>\n      <th>7696</th>\n      <td>3.0</td>\n      <td>1.0</td>\n      <td>1.0</td>\n      <td>1.05</td>\n      <td>3.7</td>\n    </tr>\n    <tr>\n      <th>74</th>\n      <td>0.0</td>\n      <td>1.0</td>\n      <td>0.0</td>\n      <td>1.20</td>\n      <td>5.2</td>\n    </tr>\n    <tr>\n      <th>338</th>\n      <td>2.0</td>\n      <td>1.0</td>\n      <td>0.0</td>\n      <td>1.25</td>\n      <td>4.1</td>\n    </tr>\n  </tbody>\n</table>\n<p>6700 rows × 5 columns</p>\n</div>"
     },
     "execution_count": 504,
     "metadata": {},
     "output_type": "execute_result"
    }
   ],
   "source": [
    "X_train"
   ],
   "metadata": {
    "collapsed": false,
    "pycharm": {
     "name": "#%%\n"
    }
   }
  },
  {
   "cell_type": "markdown",
   "source": [
    "Запуск обучения, подбор гиперпараметров"
   ],
   "metadata": {
    "collapsed": false,
    "pycharm": {
     "name": "#%% md\n"
    }
   }
  },
  {
   "cell_type": "code",
   "execution_count": 437,
   "outputs": [
    {
     "data": {
      "text/plain": "array([52.30996437, 67.45972506, 67.08657416, ..., 67.72311428,\n       42.17169092, 51.49254809])"
     },
     "execution_count": 437,
     "metadata": {},
     "output_type": "execute_result"
    }
   ],
   "source": [
    "loggd = LogGD(iteration=15000, alpha=1e-4)\n",
    "loggd.fit(X_train, y_train)\n",
    "loggd.predict(X_valid)"
   ],
   "metadata": {
    "collapsed": false,
    "pycharm": {
     "name": "#%%\n"
    }
   }
  },
  {
   "cell_type": "markdown",
   "source": [
    "Контроль обучения, переобучения"
   ],
   "metadata": {
    "collapsed": false,
    "pycharm": {
     "name": "#%% md\n"
    }
   }
  },
  {
   "cell_type": "code",
   "execution_count": 457,
   "outputs": [
    {
     "data": {
      "text/plain": "(0.5593537988984921, 0.5551065847600533)"
     },
     "execution_count": 457,
     "metadata": {},
     "output_type": "execute_result"
    }
   ],
   "source": [
    "r2(y_train, loggd.predict(X_train)), r2(y_valid, loggd.predict(X_valid))"
   ],
   "metadata": {
    "collapsed": false,
    "pycharm": {
     "name": "#%%\n"
    }
   }
  },
  {
   "cell_type": "code",
   "execution_count": 440,
   "outputs": [
    {
     "data": {
      "text/plain": "<matplotlib.collections.PathCollection at 0x24e7ac8b850>"
     },
     "execution_count": 440,
     "metadata": {},
     "output_type": "execute_result"
    },
    {
     "data": {
      "text/plain": "<Figure size 720x504 with 1 Axes>",
      "image/png": "[encoded data removed]"
     },
     "metadata": {
      "needs_background": "light"
     },
     "output_type": "display_data"
    }
   ],
   "source": [
    "plt.figure(figsize=(10, 7))\n",
    "plt.scatter(list(range(0, loggd.iteration)), loggd.Err)"
   ],
   "metadata": {
    "collapsed": false,
    "pycharm": {
     "name": "#%%\n"
    }
   }
  },
  {
   "cell_type": "code",
   "execution_count": 441,
   "outputs": [
    {
     "data": {
      "text/plain": "(10000,)"
     },
     "execution_count": 441,
     "metadata": {},
     "output_type": "execute_result"
    }
   ],
   "source": [
    "prediction = loggd.predict(test_df)\n",
    "prediction.shape"
   ],
   "metadata": {
    "collapsed": false,
    "pycharm": {
     "name": "#%%\n"
    }
   }
  },
  {
   "cell_type": "code",
   "execution_count": 442,
   "outputs": [
    {
     "data": {
      "text/plain": "      Id  mean_exam_points\n0  10000              50.0\n1  10001              50.0\n2  10002              50.0\n3  10003              50.0\n4  10004              50.0",
      "text/html": "<div>\n<style scoped>\n    .dataframe tbody tr th:only-of-type {\n        vertical-align: middle;\n    }\n\n    .dataframe tbody tr th {\n        vertical-align: top;\n    }\n\n    .dataframe thead th {\n        text-align: right;\n    }\n</style>\n<table border=\"1\" class=\"dataframe\">\n  <thead>\n    <tr style=\"text-align: right;\">\n      <th></th>\n      <th>Id</th>\n      <th>mean_exam_points</th>\n    </tr>\n  </thead>\n  <tbody>\n    <tr>\n      <th>0</th>\n      <td>10000</td>\n      <td>50.0</td>\n    </tr>\n    <tr>\n      <th>1</th>\n      <td>10001</td>\n      <td>50.0</td>\n    </tr>\n    <tr>\n      <th>2</th>\n      <td>10002</td>\n      <td>50.0</td>\n    </tr>\n    <tr>\n      <th>3</th>\n      <td>10003</td>\n      <td>50.0</td>\n    </tr>\n    <tr>\n      <th>4</th>\n      <td>10004</td>\n      <td>50.0</td>\n    </tr>\n  </tbody>\n</table>\n</div>"
     },
     "execution_count": 442,
     "metadata": {},
     "output_type": "execute_result"
    }
   ],
   "source": [
    "submit = pd.read_csv(SAMPLE_PATH)\n",
    "submit.head()"
   ],
   "metadata": {
    "collapsed": false,
    "pycharm": {
     "name": "#%%\n"
    }
   }
  },
  {
   "cell_type": "code",
   "execution_count": 443,
   "outputs": [
    {
     "data": {
      "text/plain": "      Id  mean_exam_points\n0  10000         50.085061\n1  10001         65.216800\n2  10002         60.163405\n3  10003         96.053249\n4  10004         90.284441",
      "text/html": "<div>\n<style scoped>\n    .dataframe tbody tr th:only-of-type {\n        vertical-align: middle;\n    }\n\n    .dataframe tbody tr th {\n        vertical-align: top;\n    }\n\n    .dataframe thead th {\n        text-align: right;\n    }\n</style>\n<table border=\"1\" class=\"dataframe\">\n  <thead>\n    <tr style=\"text-align: right;\">\n      <th></th>\n      <th>Id</th>\n      <th>mean_exam_points</th>\n    </tr>\n  </thead>\n  <tbody>\n    <tr>\n      <th>0</th>\n      <td>10000</td>\n      <td>50.085061</td>\n    </tr>\n    <tr>\n      <th>1</th>\n      <td>10001</td>\n      <td>65.216800</td>\n    </tr>\n    <tr>\n      <th>2</th>\n      <td>10002</td>\n      <td>60.163405</td>\n    </tr>\n    <tr>\n      <th>3</th>\n      <td>10003</td>\n      <td>96.053249</td>\n    </tr>\n    <tr>\n      <th>4</th>\n      <td>10004</td>\n      <td>90.284441</td>\n    </tr>\n  </tbody>\n</table>\n</div>"
     },
     "execution_count": 443,
     "metadata": {},
     "output_type": "execute_result"
    }
   ],
   "source": [
    "submit['mean_exam_points'] = prediction\n",
    "submit.head()"
   ],
   "metadata": {
    "collapsed": false,
    "pycharm": {
     "name": "#%%\n"
    }
   }
  },
  {
   "cell_type": "code",
   "execution_count": 444,
   "outputs": [],
   "source": [
    "submit.to_csv('./rf_submit.csv', index=False)"
   ],
   "metadata": {
    "collapsed": false,
    "pycharm": {
     "name": "#%%\n"
    }
   }
  },
  {
   "cell_type": "markdown",
   "source": [
    "> **Вывод** Линейная модель не достаточно улавливает закономерности в наборе признаков.\n",
    "> Возможно это нелинейная зависимость.\n",
    "> Максимально достижимый результат около 0.60 (R2) при отсутствии переобучения."
   ],
   "metadata": {
    "collapsed": false,
    "pycharm": {
     "name": "#%% md\n"
    }
   }
  },
  {
   "cell_type": "markdown",
   "source": [
    "#### Модель на основе дерева принятия решения"
   ],
   "metadata": {
    "collapsed": false
   }
  },
  {
   "cell_type": "code",
   "execution_count": 473,
   "outputs": [],
   "source": [
    "class TreeReg():\n",
    "    def __init__(self, Y: list, X: pd.DataFrame,\n",
    "                 min_samples_split=20, max_depth=5, depth=None, node_type=None, rule=None):\n",
    "        self.Y = Y\n",
    "        self.X = X\n",
    "\n",
    "        self.min_samples_split = min_samples_split\n",
    "        self.max_depth = max_depth\n",
    "\n",
    "        self.depth = depth if depth else 0\n",
    "\n",
    "        # Extracting all the features\n",
    "        self.features = list(self.X.columns)\n",
    "\n",
    "        self.node_type = node_type if node_type else 'root'\n",
    "        self.rule = rule if rule else \"\"\n",
    "        self.ymean = np.mean(Y)\n",
    "        self.residuals = self.Y - self.ymean\n",
    "        self.mse = self.get_mse(Y, self.ymean)\n",
    "\n",
    "        # Saving the number of observations in the node\n",
    "        self.n = len(Y)\n",
    "\n",
    "        self.left = None\n",
    "        self.right = None\n",
    "        self.best_feature = None\n",
    "        self.best_value = None\n",
    "\n",
    "    @staticmethod\n",
    "    def get_mse(ytrue, yhat) -> float:\n",
    "        n = len(ytrue)\n",
    "        r = ytrue - yhat\n",
    "        r = r ** 2\n",
    "        r = np.sum(r)\n",
    "        return r / n\n",
    "\n",
    "    @staticmethod\n",
    "    def ma(x: np.array, window: int) -> np.array:\n",
    "        return np.convolve(x, np.ones(window), 'valid') / window\n",
    "\n",
    "    def best_split(self) -> tuple:\n",
    "        df = self.X.copy()\n",
    "        df['Y'] = self.Y\n",
    "\n",
    "        # Getting the GINI impurity for the base input\n",
    "        mse_base = self.mse\n",
    "\n",
    "        best_feature = None\n",
    "        best_value = None\n",
    "\n",
    "        for feature in self.features:\n",
    "            # Droping missing values\n",
    "            Xdf = df.dropna().sort_values(feature)\n",
    "\n",
    "            xmeans = self.ma(Xdf[feature].unique(), 2)\n",
    "\n",
    "            for value in xmeans:\n",
    "                # Getting the left and right ys\n",
    "                left_y = Xdf[Xdf[feature] < value]['Y'].values\n",
    "                right_y = Xdf[Xdf[feature] >= value]['Y'].values\n",
    "\n",
    "                # Getting the means\n",
    "                left_mean = np.mean(left_y)\n",
    "                right_mean = np.mean(right_y)\n",
    "\n",
    "                # Getting the left and right residuals\n",
    "                res_left = left_y - left_mean\n",
    "                res_right = right_y - right_mean\n",
    "\n",
    "                # Concatenating the residuals\n",
    "                r = np.concatenate((res_left, res_right), axis=None)\n",
    "\n",
    "                # Calculating the mse\n",
    "                n = len(r)\n",
    "                r = r ** 2\n",
    "                r = np.sum(r)\n",
    "                mse_split = r / n\n",
    "\n",
    "                # Checking if this is the best split so far\n",
    "                if mse_split < mse_base:\n",
    "                    best_feature = feature\n",
    "                    best_value = value\n",
    "\n",
    "                    # Setting the best gain to the current one\n",
    "                    mse_base = mse_split\n",
    "\n",
    "        return (best_feature, best_value)\n",
    "\n",
    "    def fit(self):\n",
    "        df = self.X.copy()\n",
    "        df['Y'] = self.Y\n",
    "\n",
    "        # If there is GINI to be gained, we split further\n",
    "        if (self.depth < self.max_depth) and (self.n >= self.min_samples_split):\n",
    "\n",
    "            # Getting the best split\n",
    "            best_feature, best_value = self.best_split()\n",
    "\n",
    "            if best_feature is not None:\n",
    "                # Saving the best split to the current node\n",
    "                self.best_feature = best_feature\n",
    "                self.best_value = best_value\n",
    "\n",
    "                # Getting the left and right nodes\n",
    "                left_df, right_df = df[df[best_feature] <= best_value].copy(), df[df[best_feature] > best_value].copy()\n",
    "\n",
    "                # Creating the left and right nodes\n",
    "                left = TreeReg(\n",
    "                    left_df['Y'].values.tolist(),\n",
    "                    left_df[self.features],\n",
    "                    depth=self.depth + 1,\n",
    "                    max_depth=self.max_depth,\n",
    "                    min_samples_split=self.min_samples_split,\n",
    "                    node_type='left_node',\n",
    "                    rule=f\"{best_feature} <= {round(best_value, 3)}\"\n",
    "                )\n",
    "\n",
    "                self.left = left\n",
    "                self.left.fit()\n",
    "\n",
    "                right = TreeReg(\n",
    "                    right_df['Y'].values.tolist(),\n",
    "                    right_df[self.features],\n",
    "                    depth=self.depth + 1,\n",
    "                    max_depth=self.max_depth,\n",
    "                    min_samples_split=self.min_samples_split,\n",
    "                    node_type='right_node',\n",
    "                    rule=f\"{best_feature} > {round(best_value, 3)}\"\n",
    "                )\n",
    "\n",
    "                self.right = right\n",
    "                self.right.fit()\n",
    "\n",
    "    def predict(self, X: pd.DataFrame):\n",
    "\n",
    "        predictions = []\n",
    "\n",
    "        for _, x in X.iterrows():\n",
    "            values = {}\n",
    "            for feature in self.features:\n",
    "                values.update({feature: x[feature]})\n",
    "\n",
    "            predictions.append(self.predict_obs(values))\n",
    "\n",
    "        return predictions\n",
    "\n",
    "    def predict_obs(self, values: dict) -> int:\n",
    "        cur_node = self\n",
    "        while cur_node.depth < cur_node.max_depth:\n",
    "            # Traversing the nodes all the way to the bottom\n",
    "            best_feature = cur_node.best_feature\n",
    "            best_value = cur_node.best_value\n",
    "\n",
    "            if cur_node.n < cur_node.min_samples_split:\n",
    "                break\n",
    "\n",
    "            if (values.get(best_feature) < best_value):\n",
    "                if self.left is not None:\n",
    "                    cur_node = cur_node.left\n",
    "            else:\n",
    "                if self.right is not None:\n",
    "                    cur_node = cur_node.right\n",
    "\n",
    "        return cur_node.ymean"
   ],
   "metadata": {
    "collapsed": false,
    "pycharm": {
     "name": "#%%\n"
    }
   }
  },
  {
   "cell_type": "code",
   "execution_count": 492,
   "outputs": [
    {
     "data": {
      "text/plain": "962     64.0\n3505    43.0\n9654    75.0\n8303    81.0\n497     55.0\n        ... \n5876    41.0\n866     47.0\n7696    69.0\n74      54.0\n338     50.0\nName: mean_exam_points, Length: 6700, dtype: float64"
     },
     "execution_count": 492,
     "metadata": {},
     "output_type": "execute_result"
    }
   ],
   "source": [
    "y_train"
   ],
   "metadata": {
    "collapsed": false,
    "pycharm": {
     "name": "#%%\n"
    }
   }
  },
  {
   "cell_type": "code",
   "execution_count": 505,
   "outputs": [
    {
     "name": "stderr",
     "output_type": "stream",
     "text": [
      "c:\\projects\\geekbrainsai\\gb_data_analysis\\venv\\lib\\site-packages\\numpy\\core\\fromnumeric.py:3440: RuntimeWarning: Mean of empty slice.\n",
      "  return _methods._mean(a, axis=axis, dtype=dtype,\n",
      "c:\\projects\\geekbrainsai\\gb_data_analysis\\venv\\lib\\site-packages\\numpy\\core\\_methods.py:189: RuntimeWarning: invalid value encountered in double_scalars\n",
      "  ret = ret.dtype.type(ret / rcount)\n"
     ]
    }
   ],
   "source": [
    "tree = TreeReg(y_train, X_train, max_depth=8, min_samples_split=3)\n",
    "\n",
    "tree.fit()"
   ],
   "metadata": {
    "collapsed": false,
    "pycharm": {
     "name": "#%%\n"
    }
   }
  },
  {
   "cell_type": "code",
   "execution_count": 506,
   "outputs": [],
   "source": [
    "y_train_pred = tree.predict(X_train)\n",
    "y_valid_pred = tree.predict(X_valid)"
   ],
   "metadata": {
    "collapsed": false,
    "pycharm": {
     "name": "#%%\n"
    }
   }
  },
  {
   "cell_type": "code",
   "execution_count": 507,
   "outputs": [
    {
     "data": {
      "text/plain": "(0.8078955921529571, 0.7623158074449066)"
     },
     "execution_count": 507,
     "metadata": {},
     "output_type": "execute_result"
    }
   ],
   "source": [
    "r2(y_train, y_train_pred), r2(y_valid, y_valid_pred)\n"
   ],
   "metadata": {
    "collapsed": false,
    "pycharm": {
     "name": "#%%\n"
    }
   }
  },
  {
   "cell_type": "code",
   "execution_count": 508,
   "outputs": [
    {
     "data": {
      "text/plain": "10000"
     },
     "execution_count": 508,
     "metadata": {},
     "output_type": "execute_result"
    }
   ],
   "source": [
    "prediction = tree.predict(test_df)\n",
    "len(prediction)"
   ],
   "metadata": {
    "collapsed": false,
    "pycharm": {
     "name": "#%%\n"
    }
   }
  },
  {
   "cell_type": "code",
   "execution_count": 509,
   "outputs": [
    {
     "data": {
      "text/plain": "      Id  mean_exam_points\n0  10000              50.0\n1  10001              50.0\n2  10002              50.0\n3  10003              50.0\n4  10004              50.0",
      "text/html": "<div>\n<style scoped>\n    .dataframe tbody tr th:only-of-type {\n        vertical-align: middle;\n    }\n\n    .dataframe tbody tr th {\n        vertical-align: top;\n    }\n\n    .dataframe thead th {\n        text-align: right;\n    }\n</style>\n<table border=\"1\" class=\"dataframe\">\n  <thead>\n    <tr style=\"text-align: right;\">\n      <th></th>\n      <th>Id</th>\n      <th>mean_exam_points</th>\n    </tr>\n  </thead>\n  <tbody>\n    <tr>\n      <th>0</th>\n      <td>10000</td>\n      <td>50.0</td>\n    </tr>\n    <tr>\n      <th>1</th>\n      <td>10001</td>\n      <td>50.0</td>\n    </tr>\n    <tr>\n      <th>2</th>\n      <td>10002</td>\n      <td>50.0</td>\n    </tr>\n    <tr>\n      <th>3</th>\n      <td>10003</td>\n      <td>50.0</td>\n    </tr>\n    <tr>\n      <th>4</th>\n      <td>10004</td>\n      <td>50.0</td>\n    </tr>\n  </tbody>\n</table>\n</div>"
     },
     "execution_count": 509,
     "metadata": {},
     "output_type": "execute_result"
    }
   ],
   "source": [
    "submit = pd.read_csv(SAMPLE_PATH)\n",
    "submit.head()"
   ],
   "metadata": {
    "collapsed": false,
    "pycharm": {
     "name": "#%%\n"
    }
   }
  },
  {
   "cell_type": "code",
   "execution_count": 510,
   "outputs": [
    {
     "data": {
      "text/plain": "      Id  mean_exam_points\n0  10000         54.636580\n1  10001         65.781250\n2  10002         47.880000\n3  10003         91.166667\n4  10004         89.053333",
      "text/html": "<div>\n<style scoped>\n    .dataframe tbody tr th:only-of-type {\n        vertical-align: middle;\n    }\n\n    .dataframe tbody tr th {\n        vertical-align: top;\n    }\n\n    .dataframe thead th {\n        text-align: right;\n    }\n</style>\n<table border=\"1\" class=\"dataframe\">\n  <thead>\n    <tr style=\"text-align: right;\">\n      <th></th>\n      <th>Id</th>\n      <th>mean_exam_points</th>\n    </tr>\n  </thead>\n  <tbody>\n    <tr>\n      <th>0</th>\n      <td>10000</td>\n      <td>54.636580</td>\n    </tr>\n    <tr>\n      <th>1</th>\n      <td>10001</td>\n      <td>65.781250</td>\n    </tr>\n    <tr>\n      <th>2</th>\n      <td>10002</td>\n      <td>47.880000</td>\n    </tr>\n    <tr>\n      <th>3</th>\n      <td>10003</td>\n      <td>91.166667</td>\n    </tr>\n    <tr>\n      <th>4</th>\n      <td>10004</td>\n      <td>89.053333</td>\n    </tr>\n  </tbody>\n</table>\n</div>"
     },
     "execution_count": 510,
     "metadata": {},
     "output_type": "execute_result"
    }
   ],
   "source": [
    "submit['mean_exam_points'] = prediction\n",
    "submit.head()"
   ],
   "metadata": {
    "collapsed": false,
    "pycharm": {
     "name": "#%%\n"
    }
   }
  },
  {
   "cell_type": "code",
   "execution_count": 511,
   "outputs": [],
   "source": [
    "submit.to_csv('./tr_submit.csv', index=False)\n"
   ],
   "metadata": {
    "collapsed": false,
    "pycharm": {
     "name": "#%%\n"
    }
   }
  },
  {
   "cell_type": "code",
   "execution_count": null,
   "outputs": [],
   "source": [],
   "metadata": {
    "collapsed": false,
    "pycharm": {
     "name": "#%%\n"
    }
   }
  }
 ],
 "metadata": {
  "kernelspec": {
   "display_name": "Python 3",
   "language": "python",
   "name": "python3"
  },
  "language_info": {
   "codemirror_mode": {
    "name": "ipython",
    "version": 2
   },
   "file_extension": ".py",
   "mimetype": "text/x-python",
   "name": "python",
   "nbconvert_exporter": "python",
   "pygments_lexer": "ipython2",
   "version": "2.7.6"
  }
 },
 "nbformat": 4,
 "nbformat_minor": 0
}