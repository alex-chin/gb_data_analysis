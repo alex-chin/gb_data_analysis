{
 "cells": [
  {
   "cell_type": "markdown",
   "source": [
    "## Tutors - expected math exam results\n",
    "\n",
    "#### Predict average math exam results for students of the tutors\n",
    "\n",
    "Ваша задача в этом соревновании - предсказать средний балл на экзамене по математике,\n",
    "который получают ученики репетиторов из датасета test.csv.\n",
    "Вам будут даны два датасета: train.csv (содержит признаки и целевую переменную) и test.csv (только признаки)\n",
    "\n",
    "https://www.kaggle.com/c/tutors-expected-math-exam-results"
   ],
   "metadata": {
    "collapsed": false,
    "pycharm": {
     "name": "#%% md\n"
    }
   }
  },
  {
   "cell_type": "markdown",
   "source": [
    "Метрика для оценки – Коэффициент детерминации:\n",
    "\n",
    "https://en.wikipedia.org/wiki/Coefficient_of_determination\n",
    "\n",
    "\\[ R^2 = 1 - \\frac{\\sigma^2}{\\sigma_y^2} \\]\n",
    "\n"
   ],
   "metadata": {
    "collapsed": false,
    "pycharm": {
     "name": "#%% md\n"
    }
   }
  },
  {
   "cell_type": "markdown",
   "source": [
    "You can only use these imports:\n",
    "``` python\n",
    "import numpy as np\n",
    "import pandas as pd\n",
    "from sklearn.model_selection import train_test_split\n",
    "import matplotlib.pyplot as plt\n",
    "import seaborn as sns\n",
    "```"
   ],
   "metadata": {
    "collapsed": false,
    "pycharm": {
     "name": "#%% md\n"
    }
   }
  },
  {
   "cell_type": "markdown",
   "source": [
    "### План\n",
    " - Анализ предметной области\n",
    " - Очистка и форматирование данных.\n",
    " - Разведочный анализ данных.\n",
    " - Конструирование и выбор признаков.\n",
    " - Сравнение метрик нескольких моделей машинного обучения.\n",
    " - Гиперпараметрическая настройка лучшей модели.\n",
    " - Оценка лучшей модели на тестовом наборе данных.\n",
    " - Интерпретирование результатов работы модели."
   ],
   "metadata": {
    "collapsed": false
   }
  },
  {
   "cell_type": "markdown",
   "source": [
    "### Анализ предметной области"
   ],
   "metadata": {
    "collapsed": false
   }
  },
  {
   "cell_type": "markdown",
   "source": [
    "Профиль учителя включает (гипотеза! в постановке задачи не найдено):\n",
    "\n",
    "- **age** - Возраст\n",
    "- **years_of_experience** - Количество лет в профессии\n",
    "- **lesson_price** - Стоимость урока\n",
    "- **qualification** - Квалификация\n",
    "- **physics** **chemistry**\t**biology**\t**english**\t**geography** **history** - дополнительная квалификация\n",
    "- **mean_exam_points** - средний балл (целевая переменная)\n",
    "\n",
    "Наибольшие вопросы вызывают поля доп квалификации **physics** **chemistry**\t**biology**\t**english**\t**geography** **history**.\n",
    "Можно предположить что доп квалификация в предметах **physics** **chemistry** должна коррелировать с преподаванием математики\n",
    "И следовательно, влиять на целевую переменную."
   ],
   "metadata": {
    "collapsed": false,
    "pycharm": {
     "name": "#%% md\n"
    }
   }
  },
  {
   "cell_type": "markdown",
   "source": [
    ">#### Гипотеза-01-EXT\n",
    "Проверить корреляцию признаков **physics** **chemistry** на целевую переменную"
   ],
   "metadata": {
    "collapsed": false
   }
  },
  {
   "cell_type": "markdown",
   "source": [
    ">#### Гипотеза-02-0EXT\n",
    "Удалить признаки **biology**\t**english**\t**geography** **history**"
   ],
   "metadata": {
    "collapsed": false,
    "pycharm": {
     "name": "#%% md\n"
    }
   }
  },
  {
   "cell_type": "markdown",
   "source": [
    "### Очистка и форматирование данных."
   ],
   "metadata": {
    "collapsed": false
   }
  },
  {
   "cell_type": "code",
   "execution_count": 1,
   "metadata": {
    "collapsed": true
   },
   "outputs": [],
   "source": [
    "import pandas as pd\n",
    "import numpy as np\n",
    "import matplotlib.pyplot as plt"
   ]
  },
  {
   "cell_type": "code",
   "execution_count": 3,
   "outputs": [],
   "source": [
    "train = pd.read_csv(\"data/train.csv\")\n",
    "test = pd.read_csv(\"data/test.csv\")"
   ],
   "metadata": {
    "collapsed": false,
    "pycharm": {
     "name": "#%%\n"
    }
   }
  },
  {
   "cell_type": "code",
   "execution_count": 6,
   "outputs": [
    {
     "data": {
      "text/plain": "   Id   age  years_of_experience  lesson_price  qualification  physics  \\\n0   0  40.0                  0.0        1400.0            1.0      1.0   \n1   1  48.0                  4.0        2850.0            3.0      1.0   \n2   2  39.0                  0.0        1200.0            1.0      0.0   \n3   3  46.0                  5.0        1400.0            1.0      0.0   \n4   4  43.0                  1.0        1500.0            1.0      0.0   \n\n   chemistry  biology  english  geography  history  mean_exam_points  \n0        0.0      0.0      0.0        1.0      0.0              63.0  \n1        0.0      0.0      0.0        0.0      0.0              86.0  \n2        0.0      0.0      0.0        0.0      0.0              53.0  \n3        0.0      0.0      0.0        0.0      0.0              56.0  \n4        0.0      0.0      0.0        0.0      0.0              59.0  ",
      "text/html": "<div>\n<style scoped>\n    .dataframe tbody tr th:only-of-type {\n        vertical-align: middle;\n    }\n\n    .dataframe tbody tr th {\n        vertical-align: top;\n    }\n\n    .dataframe thead th {\n        text-align: right;\n    }\n</style>\n<table border=\"1\" class=\"dataframe\">\n  <thead>\n    <tr style=\"text-align: right;\">\n      <th></th>\n      <th>Id</th>\n      <th>age</th>\n      <th>years_of_experience</th>\n      <th>lesson_price</th>\n      <th>qualification</th>\n      <th>physics</th>\n      <th>chemistry</th>\n      <th>biology</th>\n      <th>english</th>\n      <th>geography</th>\n      <th>history</th>\n      <th>mean_exam_points</th>\n    </tr>\n  </thead>\n  <tbody>\n    <tr>\n      <th>0</th>\n      <td>0</td>\n      <td>40.0</td>\n      <td>0.0</td>\n      <td>1400.0</td>\n      <td>1.0</td>\n      <td>1.0</td>\n      <td>0.0</td>\n      <td>0.0</td>\n      <td>0.0</td>\n      <td>1.0</td>\n      <td>0.0</td>\n      <td>63.0</td>\n    </tr>\n    <tr>\n      <th>1</th>\n      <td>1</td>\n      <td>48.0</td>\n      <td>4.0</td>\n      <td>2850.0</td>\n      <td>3.0</td>\n      <td>1.0</td>\n      <td>0.0</td>\n      <td>0.0</td>\n      <td>0.0</td>\n      <td>0.0</td>\n      <td>0.0</td>\n      <td>86.0</td>\n    </tr>\n    <tr>\n      <th>2</th>\n      <td>2</td>\n      <td>39.0</td>\n      <td>0.0</td>\n      <td>1200.0</td>\n      <td>1.0</td>\n      <td>0.0</td>\n      <td>0.0</td>\n      <td>0.0</td>\n      <td>0.0</td>\n      <td>0.0</td>\n      <td>0.0</td>\n      <td>53.0</td>\n    </tr>\n    <tr>\n      <th>3</th>\n      <td>3</td>\n      <td>46.0</td>\n      <td>5.0</td>\n      <td>1400.0</td>\n      <td>1.0</td>\n      <td>0.0</td>\n      <td>0.0</td>\n      <td>0.0</td>\n      <td>0.0</td>\n      <td>0.0</td>\n      <td>0.0</td>\n      <td>56.0</td>\n    </tr>\n    <tr>\n      <th>4</th>\n      <td>4</td>\n      <td>43.0</td>\n      <td>1.0</td>\n      <td>1500.0</td>\n      <td>1.0</td>\n      <td>0.0</td>\n      <td>0.0</td>\n      <td>0.0</td>\n      <td>0.0</td>\n      <td>0.0</td>\n      <td>0.0</td>\n      <td>59.0</td>\n    </tr>\n  </tbody>\n</table>\n</div>"
     },
     "execution_count": 6,
     "metadata": {},
     "output_type": "execute_result"
    }
   ],
   "source": [
    "train.head()"
   ],
   "metadata": {
    "collapsed": false,
    "pycharm": {
     "name": "#%%\n"
    }
   }
  },
  {
   "cell_type": "markdown",
   "source": [
    "> Удаляем лишние переменные"
   ],
   "metadata": {
    "collapsed": false,
    "pycharm": {
     "name": "#%% md\n"
    }
   }
  },
  {
   "cell_type": "code",
   "execution_count": 15,
   "outputs": [
    {
     "data": {
      "text/plain": "       age  years_of_experience  lesson_price  qualification  physics  \\\n0     40.0                  0.0        1400.0            1.0      1.0   \n1     48.0                  4.0        2850.0            3.0      1.0   \n2     39.0                  0.0        1200.0            1.0      0.0   \n3     46.0                  5.0        1400.0            1.0      0.0   \n4     43.0                  1.0        1500.0            1.0      0.0   \n...    ...                  ...           ...            ...      ...   \n9995  44.0                  0.0        1700.0            2.0      1.0   \n9996  51.0                  0.0        1700.0            2.0      0.0   \n9997  34.0                  1.0        1250.0            1.0      1.0   \n9998  33.0                  3.0        1100.0            1.0      0.0   \n9999  35.0                  0.0        1450.0            1.0      0.0   \n\n      chemistry  biology  english  geography  history  mean_exam_points  \n0           0.0      0.0      0.0        1.0      0.0              63.0  \n1           0.0      0.0      0.0        0.0      0.0              86.0  \n2           0.0      0.0      0.0        0.0      0.0              53.0  \n3           0.0      0.0      0.0        0.0      0.0              56.0  \n4           0.0      0.0      0.0        0.0      0.0              59.0  \n...         ...      ...      ...        ...      ...               ...  \n9995        1.0      0.0      0.0        0.0      0.0              78.0  \n9996        0.0      0.0      0.0        0.0      0.0              64.0  \n9997        0.0      0.0      0.0        0.0      0.0              58.0  \n9998        0.0      0.0      0.0        0.0      0.0              51.0  \n9999        0.0      0.0      0.0        0.0      0.0              59.0  \n\n[10000 rows x 11 columns]",
      "text/html": "<div>\n<style scoped>\n    .dataframe tbody tr th:only-of-type {\n        vertical-align: middle;\n    }\n\n    .dataframe tbody tr th {\n        vertical-align: top;\n    }\n\n    .dataframe thead th {\n        text-align: right;\n    }\n</style>\n<table border=\"1\" class=\"dataframe\">\n  <thead>\n    <tr style=\"text-align: right;\">\n      <th></th>\n      <th>age</th>\n      <th>years_of_experience</th>\n      <th>lesson_price</th>\n      <th>qualification</th>\n      <th>physics</th>\n      <th>chemistry</th>\n      <th>biology</th>\n      <th>english</th>\n      <th>geography</th>\n      <th>history</th>\n      <th>mean_exam_points</th>\n    </tr>\n  </thead>\n  <tbody>\n    <tr>\n      <th>0</th>\n      <td>40.0</td>\n      <td>0.0</td>\n      <td>1400.0</td>\n      <td>1.0</td>\n      <td>1.0</td>\n      <td>0.0</td>\n      <td>0.0</td>\n      <td>0.0</td>\n      <td>1.0</td>\n      <td>0.0</td>\n      <td>63.0</td>\n    </tr>\n    <tr>\n      <th>1</th>\n      <td>48.0</td>\n      <td>4.0</td>\n      <td>2850.0</td>\n      <td>3.0</td>\n      <td>1.0</td>\n      <td>0.0</td>\n      <td>0.0</td>\n      <td>0.0</td>\n      <td>0.0</td>\n      <td>0.0</td>\n      <td>86.0</td>\n    </tr>\n    <tr>\n      <th>2</th>\n      <td>39.0</td>\n      <td>0.0</td>\n      <td>1200.0</td>\n      <td>1.0</td>\n      <td>0.0</td>\n      <td>0.0</td>\n      <td>0.0</td>\n      <td>0.0</td>\n      <td>0.0</td>\n      <td>0.0</td>\n      <td>53.0</td>\n    </tr>\n    <tr>\n      <th>3</th>\n      <td>46.0</td>\n      <td>5.0</td>\n      <td>1400.0</td>\n      <td>1.0</td>\n      <td>0.0</td>\n      <td>0.0</td>\n      <td>0.0</td>\n      <td>0.0</td>\n      <td>0.0</td>\n      <td>0.0</td>\n      <td>56.0</td>\n    </tr>\n    <tr>\n      <th>4</th>\n      <td>43.0</td>\n      <td>1.0</td>\n      <td>1500.0</td>\n      <td>1.0</td>\n      <td>0.0</td>\n      <td>0.0</td>\n      <td>0.0</td>\n      <td>0.0</td>\n      <td>0.0</td>\n      <td>0.0</td>\n      <td>59.0</td>\n    </tr>\n    <tr>\n      <th>...</th>\n      <td>...</td>\n      <td>...</td>\n      <td>...</td>\n      <td>...</td>\n      <td>...</td>\n      <td>...</td>\n      <td>...</td>\n      <td>...</td>\n      <td>...</td>\n      <td>...</td>\n      <td>...</td>\n    </tr>\n    <tr>\n      <th>9995</th>\n      <td>44.0</td>\n      <td>0.0</td>\n      <td>1700.0</td>\n      <td>2.0</td>\n      <td>1.0</td>\n      <td>1.0</td>\n      <td>0.0</td>\n      <td>0.0</td>\n      <td>0.0</td>\n      <td>0.0</td>\n      <td>78.0</td>\n    </tr>\n    <tr>\n      <th>9996</th>\n      <td>51.0</td>\n      <td>0.0</td>\n      <td>1700.0</td>\n      <td>2.0</td>\n      <td>0.0</td>\n      <td>0.0</td>\n      <td>0.0</td>\n      <td>0.0</td>\n      <td>0.0</td>\n      <td>0.0</td>\n      <td>64.0</td>\n    </tr>\n    <tr>\n      <th>9997</th>\n      <td>34.0</td>\n      <td>1.0</td>\n      <td>1250.0</td>\n      <td>1.0</td>\n      <td>1.0</td>\n      <td>0.0</td>\n      <td>0.0</td>\n      <td>0.0</td>\n      <td>0.0</td>\n      <td>0.0</td>\n      <td>58.0</td>\n    </tr>\n    <tr>\n      <th>9998</th>\n      <td>33.0</td>\n      <td>3.0</td>\n      <td>1100.0</td>\n      <td>1.0</td>\n      <td>0.0</td>\n      <td>0.0</td>\n      <td>0.0</td>\n      <td>0.0</td>\n      <td>0.0</td>\n      <td>0.0</td>\n      <td>51.0</td>\n    </tr>\n    <tr>\n      <th>9999</th>\n      <td>35.0</td>\n      <td>0.0</td>\n      <td>1450.0</td>\n      <td>1.0</td>\n      <td>0.0</td>\n      <td>0.0</td>\n      <td>0.0</td>\n      <td>0.0</td>\n      <td>0.0</td>\n      <td>0.0</td>\n      <td>59.0</td>\n    </tr>\n  </tbody>\n</table>\n<p>10000 rows × 11 columns</p>\n</div>"
     },
     "execution_count": 15,
     "metadata": {},
     "output_type": "execute_result"
    }
   ],
   "source": [
    "train.drop(columns='Id', inplace=True)\n",
    "train"
   ],
   "metadata": {
    "collapsed": false,
    "pycharm": {
     "name": "#%%\n"
    }
   }
  },
  {
   "cell_type": "code",
   "execution_count": 16,
   "outputs": [
    {
     "name": "stdout",
     "output_type": "stream",
     "text": [
      "<class 'pandas.core.frame.DataFrame'>\n",
      "RangeIndex: 10000 entries, 0 to 9999\n",
      "Data columns (total 11 columns):\n",
      " #   Column               Non-Null Count  Dtype  \n",
      "---  ------               --------------  -----  \n",
      " 0   age                  10000 non-null  float64\n",
      " 1   years_of_experience  10000 non-null  float64\n",
      " 2   lesson_price         10000 non-null  float64\n",
      " 3   qualification        10000 non-null  float64\n",
      " 4   physics              10000 non-null  float64\n",
      " 5   chemistry            10000 non-null  float64\n",
      " 6   biology              10000 non-null  float64\n",
      " 7   english              10000 non-null  float64\n",
      " 8   geography            10000 non-null  float64\n",
      " 9   history              10000 non-null  float64\n",
      " 10  mean_exam_points     10000 non-null  float64\n",
      "dtypes: float64(11)\n",
      "memory usage: 859.5 KB\n"
     ]
    }
   ],
   "source": [
    "train.info()"
   ],
   "metadata": {
    "collapsed": false,
    "pycharm": {
     "name": "#%%\n"
    }
   }
  },
  {
   "cell_type": "code",
   "execution_count": 10,
   "outputs": [
    {
     "data": {
      "text/plain": "                       count       mean          std    min      25%     50%  \\\nId                   10000.0  4999.5000  2886.895680    0.0  2499.75  4999.5   \nage                  10000.0    45.8780     8.043929   23.0    40.00    46.0   \nyears_of_experience  10000.0     1.9868     1.772213    0.0     0.00     2.0   \nlesson_price         10000.0  1699.1050   524.886654  200.0  1300.00  1500.0   \nqualification        10000.0     1.7195     0.792264    1.0     1.00     2.0   \nphysics              10000.0     0.3750     0.484147    0.0     0.00     0.0   \nchemistry            10000.0     0.1329     0.339484    0.0     0.00     0.0   \nbiology              10000.0     0.1096     0.312406    0.0     0.00     0.0   \nenglish              10000.0     0.0537     0.225436    0.0     0.00     0.0   \ngeography            10000.0     0.0321     0.176274    0.0     0.00     0.0   \nhistory              10000.0     0.0194     0.137933    0.0     0.00     0.0   \nmean_exam_points     10000.0    64.3408    13.536823   32.0    55.00    63.0   \n\n                         75%     max  \nId                   7499.25  9999.0  \nage                    51.00    68.0  \nyears_of_experience     3.00    10.0  \nlesson_price         2150.00  3950.0  \nqualification           2.00     4.0  \nphysics                 1.00     1.0  \nchemistry               0.00     1.0  \nbiology                 0.00     1.0  \nenglish                 0.00     1.0  \ngeography               0.00     1.0  \nhistory                 0.00     1.0  \nmean_exam_points       73.00   100.0  ",
      "text/html": "<div>\n<style scoped>\n    .dataframe tbody tr th:only-of-type {\n        vertical-align: middle;\n    }\n\n    .dataframe tbody tr th {\n        vertical-align: top;\n    }\n\n    .dataframe thead th {\n        text-align: right;\n    }\n</style>\n<table border=\"1\" class=\"dataframe\">\n  <thead>\n    <tr style=\"text-align: right;\">\n      <th></th>\n      <th>count</th>\n      <th>mean</th>\n      <th>std</th>\n      <th>min</th>\n      <th>25%</th>\n      <th>50%</th>\n      <th>75%</th>\n      <th>max</th>\n    </tr>\n  </thead>\n  <tbody>\n    <tr>\n      <th>Id</th>\n      <td>10000.0</td>\n      <td>4999.5000</td>\n      <td>2886.895680</td>\n      <td>0.0</td>\n      <td>2499.75</td>\n      <td>4999.5</td>\n      <td>7499.25</td>\n      <td>9999.0</td>\n    </tr>\n    <tr>\n      <th>age</th>\n      <td>10000.0</td>\n      <td>45.8780</td>\n      <td>8.043929</td>\n      <td>23.0</td>\n      <td>40.00</td>\n      <td>46.0</td>\n      <td>51.00</td>\n      <td>68.0</td>\n    </tr>\n    <tr>\n      <th>years_of_experience</th>\n      <td>10000.0</td>\n      <td>1.9868</td>\n      <td>1.772213</td>\n      <td>0.0</td>\n      <td>0.00</td>\n      <td>2.0</td>\n      <td>3.00</td>\n      <td>10.0</td>\n    </tr>\n    <tr>\n      <th>lesson_price</th>\n      <td>10000.0</td>\n      <td>1699.1050</td>\n      <td>524.886654</td>\n      <td>200.0</td>\n      <td>1300.00</td>\n      <td>1500.0</td>\n      <td>2150.00</td>\n      <td>3950.0</td>\n    </tr>\n    <tr>\n      <th>qualification</th>\n      <td>10000.0</td>\n      <td>1.7195</td>\n      <td>0.792264</td>\n      <td>1.0</td>\n      <td>1.00</td>\n      <td>2.0</td>\n      <td>2.00</td>\n      <td>4.0</td>\n    </tr>\n    <tr>\n      <th>physics</th>\n      <td>10000.0</td>\n      <td>0.3750</td>\n      <td>0.484147</td>\n      <td>0.0</td>\n      <td>0.00</td>\n      <td>0.0</td>\n      <td>1.00</td>\n      <td>1.0</td>\n    </tr>\n    <tr>\n      <th>chemistry</th>\n      <td>10000.0</td>\n      <td>0.1329</td>\n      <td>0.339484</td>\n      <td>0.0</td>\n      <td>0.00</td>\n      <td>0.0</td>\n      <td>0.00</td>\n      <td>1.0</td>\n    </tr>\n    <tr>\n      <th>biology</th>\n      <td>10000.0</td>\n      <td>0.1096</td>\n      <td>0.312406</td>\n      <td>0.0</td>\n      <td>0.00</td>\n      <td>0.0</td>\n      <td>0.00</td>\n      <td>1.0</td>\n    </tr>\n    <tr>\n      <th>english</th>\n      <td>10000.0</td>\n      <td>0.0537</td>\n      <td>0.225436</td>\n      <td>0.0</td>\n      <td>0.00</td>\n      <td>0.0</td>\n      <td>0.00</td>\n      <td>1.0</td>\n    </tr>\n    <tr>\n      <th>geography</th>\n      <td>10000.0</td>\n      <td>0.0321</td>\n      <td>0.176274</td>\n      <td>0.0</td>\n      <td>0.00</td>\n      <td>0.0</td>\n      <td>0.00</td>\n      <td>1.0</td>\n    </tr>\n    <tr>\n      <th>history</th>\n      <td>10000.0</td>\n      <td>0.0194</td>\n      <td>0.137933</td>\n      <td>0.0</td>\n      <td>0.00</td>\n      <td>0.0</td>\n      <td>0.00</td>\n      <td>1.0</td>\n    </tr>\n    <tr>\n      <th>mean_exam_points</th>\n      <td>10000.0</td>\n      <td>64.3408</td>\n      <td>13.536823</td>\n      <td>32.0</td>\n      <td>55.00</td>\n      <td>63.0</td>\n      <td>73.00</td>\n      <td>100.0</td>\n    </tr>\n  </tbody>\n</table>\n</div>"
     },
     "execution_count": 10,
     "metadata": {},
     "output_type": "execute_result"
    }
   ],
   "source": [
    "train.describe().T\n"
   ],
   "metadata": {
    "collapsed": false,
    "pycharm": {
     "name": "#%%\n"
    }
   }
  },
  {
   "cell_type": "code",
   "execution_count": 19,
   "outputs": [
    {
     "data": {
      "text/plain": "age                    0\nyears_of_experience    0\nlesson_price           0\nqualification          0\nphysics                0\nchemistry              0\nbiology                0\nenglish                0\ngeography              0\nhistory                0\nmean_exam_points       0\ndtype: int64"
     },
     "execution_count": 19,
     "metadata": {},
     "output_type": "execute_result"
    }
   ],
   "source": [
    "train.isnull().sum()"
   ],
   "metadata": {
    "collapsed": false,
    "pycharm": {
     "name": "#%%\n"
    }
   }
  },
  {
   "cell_type": "markdown",
   "source": [
    "> пропуски отсутствуют\n"
   ],
   "metadata": {
    "collapsed": false,
    "pycharm": {
     "name": "#%% md\n"
    }
   }
  },
  {
   "cell_type": "code",
   "execution_count": null,
   "outputs": [],
   "source": [
    "from sklearn.tree import DecisionTreeRegressor\n",
    "from sklearn.tree import DecisionTreeClassifier"
   ],
   "metadata": {
    "collapsed": false,
    "pycharm": {
     "name": "#%%\n"
    }
   }
  },
  {
   "cell_type": "markdown",
   "source": [
    "### Разведочный анализ данных\n",
    "\n"
   ],
   "metadata": {
    "collapsed": false
   }
  }
 ],
 "metadata": {
  "kernelspec": {
   "display_name": "Python 3",
   "language": "python",
   "name": "python3"
  },
  "language_info": {
   "codemirror_mode": {
    "name": "ipython",
    "version": 2
   },
   "file_extension": ".py",
   "mimetype": "text/x-python",
   "name": "python",
   "nbconvert_exporter": "python",
   "pygments_lexer": "ipython2",
   "version": "2.7.6"
  }
 },
 "nbformat": 4,
 "nbformat_minor": 0
}