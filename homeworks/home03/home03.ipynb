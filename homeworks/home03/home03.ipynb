{
 "cells": [
  {
   "cell_type": "markdown",
   "metadata": {},
   "source": [
    "## Задание № 3\n",
    "\n",
    "### Урок 3. Логистическая регрессия. Log Loss"
   ]
  },
  {
   "cell_type": "markdown",
   "metadata": {},
   "source": [
    "#### Задание\n",
    "\n",
    "1. (*) Измените функцию calc_logloss так, чтобы нули по возможности не попадали в np.log.\n",
    "2. Подберите аргументы функции eval_model для логистической регрессии таким образом, чтобы log loss был минимальным.\n",
    "3. Создайте функцию calc_pred_proba, возвращающую предсказанную вероятность класса 1 (на вход подаются W, который уже посчитан функцией eval_model и X, на выходе - массив y_pred_proba).\n",
    "4. Создайте функцию calc_pred, возвращающую предсказанный класс (на вход подаются W, который уже посчитан функцией eval_model и X, на выходе - массив y_pred).\n",
    "5. Посчитайте Accuracy, матрицу ошибок, точность и полноту, а также F1 score.\n",
    "6. Могла ли модель переобучиться? Почему?\n",
    "7. (*) Создайте функции eval_model_l1 и eval_model_l2 с применением L1 и L2 регуляризаций соответственно."
   ]
  },
  {
   "cell_type": "code",
   "execution_count": 1,
   "metadata": {
    "pycharm": {
     "name": "#%%\n"
    }
   },
   "outputs": [],
   "source": [
    "import numpy as np\n",
    "import matplotlib.pyplot as plt"
   ]
  },
  {
   "cell_type": "code",
   "execution_count": 114,
   "metadata": {
    "pycharm": {
     "name": "#%%\n"
    }
   },
   "outputs": [],
   "source": [
    "# модель выбора репетитора\n",
    "# ones, стаж, Стоимость услуг, рейтинг на платформе обучения\n",
    "X = np.array([[1, 1, 1, 1, 1, 1, 1, 1, 1, 1],\n",
    "              [1, 1, 2, 1, 3, 0, 5, 10, 1, 2],\n",
    "              [500, 700, 750, 600, 1450,\n",
    "               800, 1500, 2000, 450, 1000],\n",
    "              [1, 1, 2, 1, 2, 1, 3, 3, 1, 2]], dtype=np.float64)\n",
    "\n",
    "# таргет - поступил/ не поступил\n",
    "y = np.array([0, 0, 1, 0, 1, 0, 1, 0, 1, 1], dtype=np.float64)"
   ]
  },
  {
   "cell_type": "code",
   "execution_count": 43,
   "metadata": {
    "pycharm": {
     "name": "#%%\n"
    }
   },
   "outputs": [],
   "source": [
    "def calc_logloss(y, y_pred):\n",
    "    err = - np.mean(y * np.log(y_pred) + (1.0 - y) * np.log(1.0 - y_pred))\n",
    "    return err\n"
   ]
  },
  {
   "cell_type": "markdown",
   "metadata": {
    "pycharm": {
     "name": "#%% md\n"
    }
   },
   "source": [
    "> Функция LogLoss с регуляризацией"
   ]
  },
  {
   "cell_type": "code",
   "execution_count": 44,
   "metadata": {
    "pycharm": {
     "name": "#%%\n"
    }
   },
   "outputs": [],
   "source": [
    "def calc_logloss_clip(y, y_pred, eps=1e-15):\n",
    "    y_pred = np.clip(y_pred, eps, 1 - eps)\n",
    "    err = - np.mean(y * np.log(y_pred) + (1.0 - y) * np.log(1.0 - y_pred))\n",
    "    return err"
   ]
  },
  {
   "cell_type": "code",
   "execution_count": 45,
   "metadata": {
    "pycharm": {
     "name": "#%%\n"
    }
   },
   "outputs": [],
   "source": [
    "def sigmoid(z):\n",
    "    res = 1 / (1 + np.exp(-z))\n",
    "    return res"
   ]
  },
  {
   "cell_type": "code",
   "execution_count": 64,
   "metadata": {
    "pycharm": {
     "name": "#%%\n"
    }
   },
   "outputs": [],
   "source": [
    "def eval_model(X, y, iterations, alpha=1e-4, is_reg=False, eps=1e-15, metric: callable = None):\n",
    "    np.random.seed(42)\n",
    "    W = np.random.randn(X.shape[0])\n",
    "    n = X.shape[1]\n",
    "    for i in range(1, iterations + 1):\n",
    "        z = np.dot(W, X)\n",
    "        y_pred = sigmoid(z)\n",
    "        if is_reg:\n",
    "            err = calc_logloss_clip(y, y_pred, eps=eps)\n",
    "        else:\n",
    "            err = calc_logloss(y, y_pred)\n",
    "        W -= alpha * (1 / n * np.dot((y_pred - y), X.T))\n",
    "        if i % (iterations / 10) == 0:\n",
    "            print(i, W, err)\n",
    "    return W\n",
    "\n"
   ]
  },
  {
   "cell_type": "markdown",
   "metadata": {
    "pycharm": {
     "name": "#%% md\n"
    }
   },
   "source": [
    "#### Задание 1. (*)\n",
    "Измените функцию calc_logloss так, чтобы нули по возможности не попадали в np.log."
   ]
  },
  {
   "cell_type": "code",
   "execution_count": 51,
   "metadata": {
    "pycharm": {
     "name": "#%%\n"
    }
   },
   "outputs": [
    {
     "name": "stdout",
     "output_type": "stream",
     "text": [
      "5 [ 0.49646415 -0.1389143   0.41768854  1.52267986] nan\n",
      "10 [ 0.49621415 -0.1395643   0.18768854  1.52232986] nan\n",
      "15 [ 0.49596506 -0.14021343 -0.04180058  1.5219808 ] 2.8371806221385123\n",
      "20 [ 0.4960151  -0.14008339  0.02071994  1.52214084] 14.263967623246362\n",
      "25 [ 0.49596508 -0.1402134  -0.01428648  1.52213082] nan\n",
      "30 [ 0.49599183 -0.1401142   0.03298129  1.52226004] 1.1442812086978962\n",
      "35 [ 0.49593661 -0.14025019 -0.00496832  1.52224391] nan\n",
      "40 [ 0.4959596  -0.14015502  0.04025133  1.52236877] 2.028321956543663\n",
      "45 [ 0.49589322 -0.14030519 -0.00477828  1.52233817] nan\n",
      "50 [ 0.49591785 -0.14020871  0.04115407  1.52246467] 2.5650205479860313\n"
     ]
    },
    {
     "name": "stderr",
     "output_type": "stream",
     "text": [
      "C:\\Users\\8523~1\\AppData\\Local\\Temp/ipykernel_18524/2865143382.py:2: RuntimeWarning: divide by zero encountered in log\n",
      "  err = - np.mean(y * np.log(y_pred) + (1.0 - y) * np.log(1.0 - y_pred))\n",
      "C:\\Users\\8523~1\\AppData\\Local\\Temp/ipykernel_18524/2865143382.py:2: RuntimeWarning: invalid value encountered in multiply\n",
      "  err = - np.mean(y * np.log(y_pred) + (1.0 - y) * np.log(1.0 - y_pred))\n"
     ]
    },
    {
     "data": {
      "text/plain": [
       "array([ 0.49591785, -0.14020871,  0.04115407,  1.52246467])"
      ]
     },
     "execution_count": 51,
     "metadata": {},
     "output_type": "execute_result"
    }
   ],
   "source": [
    "W = eval_model(X, y, iterations=50, alpha=1e-4)\n",
    "W"
   ]
  },
  {
   "cell_type": "markdown",
   "metadata": {
    "pycharm": {
     "name": "#%% md\n"
    }
   },
   "source": [
    "> На начальных этапах алгоритма видим часто что функция logloss не определена. Также видны ошибки.\n",
    ">"
   ]
  },
  {
   "cell_type": "code",
   "execution_count": 52,
   "metadata": {
    "pycharm": {
     "name": "#%%\n"
    }
   },
   "outputs": [
    {
     "name": "stdout",
     "output_type": "stream",
     "text": [
      "5 [ 0.49646415 -0.1389143   0.41768854  1.52267986] 17.269787996170443\n",
      "10 [ 0.49621415 -0.1395643   0.18768854  1.52232986] 17.269787996170443\n",
      "15 [ 0.49596506 -0.14021343 -0.04180058  1.5219808 ] 2.8371806221385123\n",
      "20 [ 0.4960151  -0.14008339  0.02071994  1.52214084] 12.839658280017645\n",
      "25 [ 0.49596508 -0.1402134  -0.01428648  1.52213082] 12.464727256354816\n",
      "30 [ 0.49599183 -0.1401142   0.03298129  1.52226004] 1.1442812086978962\n",
      "35 [ 0.49593661 -0.14025019 -0.00496832  1.52224391] 14.857160480701134\n",
      "40 [ 0.4959596  -0.14015502  0.04025133  1.52236877] 2.028321956543663\n",
      "45 [ 0.49589322 -0.14030519 -0.00477828  1.52233817] 14.891478526063684\n",
      "50 [ 0.49591785 -0.14020871  0.04115407  1.52246467] 2.5650205479860313\n"
     ]
    },
    {
     "data": {
      "text/plain": [
       "array([ 0.49591785, -0.14020871,  0.04115407,  1.52246467])"
      ]
     },
     "execution_count": 52,
     "metadata": {},
     "output_type": "execute_result"
    }
   ],
   "source": [
    "W = eval_model(X, y, iterations=50, alpha=1e-4, is_reg=True)\n",
    "W"
   ]
  },
  {
   "cell_type": "markdown",
   "metadata": {
    "pycharm": {
     "name": "#%% md\n"
    }
   },
   "source": [
    "> При включении регуляризации (замена крайних значений) сбои пропадают."
   ]
  },
  {
   "cell_type": "code",
   "execution_count": 94,
   "metadata": {
    "pycharm": {
     "name": "#%%\n"
    }
   },
   "outputs": [],
   "source": [
    "import sklearn.metrics\n",
    "\n",
    "# help(sklearn.metrics.log_loss)"
   ]
  },
  {
   "cell_type": "markdown",
   "metadata": {},
   "source": [
    "    eps : float, default=1e-15\n",
    "        Log loss is undefined for p=0 or p=1, so probabilities are\n",
    "        clipped to max(eps, min(1 - eps, p))."
   ]
  },
  {
   "cell_type": "markdown",
   "metadata": {},
   "source": [
    "#### Задание 2.\n",
    "Подберите аргументы функции eval_model для логистической регрессии таким образом, чтобы log loss был минимальным.\n"
   ]
  },
  {
   "cell_type": "code",
   "execution_count": 74,
   "metadata": {
    "pycharm": {
     "name": "#%%\n"
    }
   },
   "outputs": [
    {
     "name": "stdout",
     "output_type": "stream",
     "text": [
      "500 [ 0.49646415 -0.1389143   0.41768854  1.52267986] 17.269787996170443\n",
      "1000 [ 0.49621415 -0.1395643   0.18768854  1.52232986] 17.269787996170443\n",
      "1500 [ 0.49600071 -0.14009687 -0.00243035  1.52204463] 0.6047454624418128\n",
      "2000 [ 0.4959597  -0.14006576 -0.00243045  1.52206805] 0.604739065410919\n",
      "2500 [ 0.49591869 -0.14003466 -0.00243055  1.52209148] 0.6047326701168281\n",
      "3000 [ 0.49587768 -0.14000358 -0.00243065  1.52211491] 0.6047262765586355\n",
      "3500 [ 0.49583668 -0.1399725  -0.00243074  1.52213833] 0.6047198847354356\n",
      "4000 [ 0.49579567 -0.13994144 -0.00243084  1.52216176] 0.6047134946463244\n",
      "4500 [ 0.49575467 -0.13991038 -0.00243094  1.52218518] 0.6047071062903984\n",
      "5000 [ 0.49571367 -0.13987934 -0.00243104  1.52220861] 0.6047007196667514\n"
     ]
    },
    {
     "data": {
      "text/plain": [
       "array([ 0.49571367, -0.13987934, -0.00243104,  1.52220861])"
      ]
     },
     "execution_count": 74,
     "metadata": {},
     "output_type": "execute_result"
    }
   ],
   "source": [
    "W = eval_model(X, y, iterations=5000, alpha=1e-6, is_reg=True, eps=1e-15)\n",
    "W"
   ]
  },
  {
   "cell_type": "code",
   "execution_count": 78,
   "metadata": {
    "pycharm": {
     "name": "#%%\n"
    }
   },
   "outputs": [
    {
     "data": {
      "text/plain": [
       "array([0., 0., 1., 0., 1., 0., 1., 0., 1., 1.])"
      ]
     },
     "execution_count": 78,
     "metadata": {},
     "output_type": "execute_result"
    }
   ],
   "source": [
    "y"
   ]
  },
  {
   "cell_type": "code",
   "execution_count": 77,
   "metadata": {
    "pycharm": {
     "name": "#%%\n"
    }
   },
   "outputs": [
    {
     "data": {
      "text/plain": [
       "array([0.65982733, 0.54396557, 0.80800441, 0.60334475, 0.40022935,\n",
       "       0.51826521, 0.67181125, 0.23173749, 0.68655806, 0.69621452])"
      ]
     },
     "execution_count": 77,
     "metadata": {},
     "output_type": "execute_result"
    }
   ],
   "source": [
    "z = np.dot(W, X)\n",
    "y_pred = sigmoid(z)\n",
    "y_pred"
   ]
  },
  {
   "cell_type": "code",
   "execution_count": null,
   "metadata": {
    "pycharm": {
     "name": "#%%\n"
    }
   },
   "outputs": [],
   "source": [
    "W"
   ]
  },
  {
   "cell_type": "code",
   "execution_count": null,
   "metadata": {
    "pycharm": {
     "name": "#%%\n"
    }
   },
   "outputs": [],
   "source": [
    "W1 = np.array([-150, -11, 44, 116])\n",
    "z = np.dot(W1, X)\n",
    "y_pred = sigmoid(z)\n",
    "y_pred"
   ]
  },
  {
   "cell_type": "markdown",
   "metadata": {
    "pycharm": {
     "name": "#%% md\n"
    }
   },
   "source": [
    "#### Задание 3.\n",
    "\n",
    "Создайте функцию calc_pred_proba, возвращающую предсказанную вероятность класса 1 (на вход подаются W, который уже посчитан функцией eval_model и X, на выходе - массив y_pred_proba)."
   ]
  },
  {
   "cell_type": "code",
   "execution_count": 86,
   "metadata": {
    "pycharm": {
     "name": "#%%\n"
    }
   },
   "outputs": [],
   "source": [
    "def calc_pred_proba(W, X):\n",
    "    z = np.dot(W, X)\n",
    "    return sigmoid(z)"
   ]
  },
  {
   "cell_type": "code",
   "execution_count": 89,
   "metadata": {
    "pycharm": {
     "name": "#%%\n"
    }
   },
   "outputs": [
    {
     "data": {
      "text/plain": [
       "array([0.65982733, 0.54396557, 0.80800441, 0.60334475, 0.40022935,\n",
       "       0.51826521, 0.67181125, 0.23173749, 0.68655806, 0.69621452])"
      ]
     },
     "execution_count": 89,
     "metadata": {},
     "output_type": "execute_result"
    }
   ],
   "source": [
    "y_pred_proba = calc_pred_proba(W, X)\n",
    "y_pred_proba"
   ]
  },
  {
   "cell_type": "code",
   "execution_count": 90,
   "metadata": {
    "pycharm": {
     "name": "#%%\n"
    }
   },
   "outputs": [
    {
     "data": {
      "text/plain": [
       "0.8400000000000001"
      ]
     },
     "execution_count": 90,
     "metadata": {},
     "output_type": "execute_result"
    }
   ],
   "source": [
    "from sklearn.metrics import roc_auc_score\n",
    "\n",
    "roc_auc_score(y_true=y, y_score=y_pred_proba)"
   ]
  },
  {
   "cell_type": "code",
   "execution_count": null,
   "metadata": {
    "pycharm": {
     "name": "#%%\n"
    }
   },
   "outputs": [],
   "source": []
  },
  {
   "cell_type": "markdown",
   "metadata": {},
   "source": [
    "#### Задание 3.\n",
    "\n",
    "Создайте функцию calc_pred, возвращающую предсказанный класс (на вход подаются W, который уже посчитан функцией eval_model и X, на выходе - массив y_pred)."
   ]
  },
  {
   "cell_type": "code",
   "execution_count": 92,
   "metadata": {
    "pycharm": {
     "name": "#%%\n"
    }
   },
   "outputs": [],
   "source": [
    "from sklearn.linear_model import LogisticRegression\n",
    "# help(LogisticRegression)"
   ]
  },
  {
   "cell_type": "code",
   "execution_count": 115,
   "metadata": {
    "pycharm": {
     "name": "#%%\n"
    }
   },
   "outputs": [],
   "source": [
    "def calc_pred(W, X):\n",
    "    y_pp = calc_pred_proba(W, X)\n",
    "    y_pp[y_pp > 0.5] = 1\n",
    "    y_pp[y_pp <= 0.5] = 0\n",
    "    return y_pp"
   ]
  },
  {
   "cell_type": "code",
   "execution_count": 121,
   "metadata": {
    "pycharm": {
     "name": "#%%\n"
    }
   },
   "outputs": [
    {
     "data": {
      "text/plain": "(array([0., 0., 1., 0., 1., 0., 1., 0., 1., 1.]),\n array([1., 1., 1., 1., 0., 1., 1., 0., 1., 1.]))"
     },
     "execution_count": 121,
     "metadata": {},
     "output_type": "execute_result"
    }
   ],
   "source": [
    "y, calc_pred(W, X)\n"
   ]
  },
  {
   "cell_type": "markdown",
   "metadata": {
    "pycharm": {
     "name": "#%% md\n"
    }
   },
   "source": [
    "#### Задание 5.\n",
    "Посчитайте Accuracy, матрицу ошибок, точность и полноту, а также F1 score."
   ]
  },
  {
   "cell_type": "code",
   "execution_count": 118,
   "metadata": {
    "pycharm": {
     "name": "#%%\n"
    }
   },
   "outputs": [],
   "source": [
    "def err_matrix(y, y_p):\n",
    "    TP = 0\n",
    "    FP = 0\n",
    "    FN = 0\n",
    "    TN = 0\n",
    "    for i in range(len(y)):\n",
    "        if y[i] == 1 and y_p[i] == 1:\n",
    "            TP += 1\n",
    "        elif y[i] == 1 and y_p[i] == 0:\n",
    "            FP += 1\n",
    "        elif y[i] == 0 and y_p[i] == 0:\n",
    "            TN += 1\n",
    "        elif y[i] == 0 and y_p[i] == 1:\n",
    "            FN += 1\n",
    "    return TP, TN, FP, FN"
   ]
  },
  {
   "cell_type": "code",
   "execution_count": 128,
   "metadata": {
    "pycharm": {
     "name": "#%%\n"
    }
   },
   "outputs": [
    {
     "name": "stdout",
     "output_type": "stream",
     "text": [
      " TP:4 FP:1\n",
      " FN:4 TN:1\n"
     ]
    }
   ],
   "source": [
    "TP, TN, FP, FN = err_matrix(y, calc_pred(W, X))\n",
    "print(f' TP:{TP} FP:{FP}')\n",
    "print(f' FN:{FN} TN:{TN}')"
   ]
  },
  {
   "cell_type": "markdown",
   "metadata": {
    "pycharm": {
     "name": "#%% md\n"
    }
   },
   "source": [
    "|<empty>| y = +1 | y = -1 |\n",
    "--- | --- | ---\n",
    "| a(x) = +1| 4 | 1\n",
    "| a(x) = -1| 4 | 1"
   ]
  },
  {
   "cell_type": "code",
   "execution_count": 134,
   "metadata": {
    "pycharm": {
     "name": "#%%\n"
    }
   },
   "outputs": [
    {
     "name": "stdout",
     "output_type": "stream",
     "text": [
      " Accuracy= 0.5\n",
      " Precision = 0.8\n",
      " Recall = 0.5\n",
      " F1 = 0.6153846153846154\n"
     ]
    }
   ],
   "source": [
    "print(f' Accuracy= {(TP + TN) / len(y)}')\n",
    "Precision = TP/(TP+FP)\n",
    "print(f' Precision = {Precision}')\n",
    "Recall = TP/(TP+FN)\n",
    "print(f' Recall = {Recall}')\n",
    "print(f' F1 = {2*Precision*Recall/(Precision+Recall)}')"
   ]
  },
  {
   "cell_type": "markdown",
   "source": [
    "#### Задание 6.\n",
    "Могла ли модель переобучиться? Почему?\n",
    "> Сначала второстепенные, но важные моменты.\n",
    "1. Размерность признаков на обучающей выборке. Влияние большых чисел на модель есть, и это влияние будет распространяться и на тестовую выборку. **Решение:** нормализация и стандартизация.\n",
    "2. Дисбаланс классов. Априори модель будет настроена по большему классу. **Решение:** устранение дисбаланса: генерация доп объектов, удаление лишних и тд.\n",
    ">\n",
    "> Непосредственно, при прочих равных, переобучение может проявляться:\n",
    "3. Проклятие размерности. Чем выше размерность, тем выше вероятность того, что можно идеально разделить два набора значений.\n",
    "**Решение:** снижение размерности.\n",
    "4. На различных данных не может быть явного определения переобучения. Об этом свидетельствует ROC: вероятность того что положительный результат будет иметь более высокую вероятность, чем положительный.\n",
    "При этом предсказание многомерной модели логистического риска, например для *корреляции событий безопасности и выявления аномалий* может вполне находиться на уровне 60-70% и это нормально.\n",
    "С другой стороны для систем управления с высокой степенью определенностью и невысокими размерностями,\n",
    "например, для *систем управления двигателями квадрокоптера* значения ниже чем 95% могут быть не приемлемыми.\n",
    "**Решение:** Системный разведочный анализ данных и предметной области."
   ],
   "metadata": {
    "collapsed": false,
    "pycharm": {
     "name": "#%% md\n"
    }
   }
  },
  {
   "cell_type": "markdown",
   "source": [
    "#### Задание 7. (*)\n",
    "Создайте функции eval_model_l1 и eval_model_l2 с применением L1 и L2 регуляризаций соответственно.\n",
    "\n",
    "\n"
   ],
   "metadata": {
    "collapsed": false
   }
  }
 ],
 "metadata": {
  "kernelspec": {
   "display_name": "Python 3 (ipykernel)",
   "language": "python",
   "name": "python3"
  },
  "language_info": {
   "codemirror_mode": {
    "name": "ipython",
    "version": 3
   },
   "file_extension": ".py",
   "mimetype": "text/x-python",
   "name": "python",
   "nbconvert_exporter": "python",
   "pygments_lexer": "ipython3",
   "version": "3.9.6"
  }
 },
 "nbformat": 4,
 "nbformat_minor": 1
}