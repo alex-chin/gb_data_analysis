{
 "cells": [
  {
   "cell_type": "markdown",
   "source": [
    "## Задание № 7\n",
    "\n",
    "### Урок 7. Классификация с помощью KNN. Кластеризация K-means"
   ],
   "metadata": {
    "collapsed": false
   }
  },
  {
   "cell_type": "markdown",
   "source": [
    "#### Задание\n",
    "\n",
    "1. К алгоритму kNN, реализованному на уроке, реализовать добавление весов для соседей в зависимости от номера соседа.\n",
    "2. К алгоритму kNN, реализованному на уроке, реализовать добавление весов для соседей в зависимости от расстояния до соседа. Сравнить метрики качества и сложность разделяющей гиперплоскости. **Сделать выводы**.\n",
    "3. Настроить оптимальное значение числа соседей для моделей из п.1 и п.2. **Cделать выводы**.\n",
    "4. **(опция)** Написать функцию подсчета метрики качества кластеризации как среднее квадратичное внутриклассовое расстояние и построить график ее зависимости от количества кластеров k (взять от 1 до 10) для выборки данных из данного урока (создать датасет, как в методичке)."
   ],
   "metadata": {
    "collapsed": false
   }
  },
  {
   "cell_type": "markdown",
   "source": [
    "> Построим ООП модель алгоритма\n"
   ],
   "metadata": {
    "collapsed": false
   }
  },
  {
   "cell_type": "code",
   "execution_count": 1,
   "outputs": [],
   "source": [
    "from abc import ABC\n",
    "\n",
    "import numpy as np\n",
    "from sklearn import model_selection"
   ],
   "metadata": {
    "collapsed": false,
    "pycharm": {
     "name": "#%%\n"
    }
   }
  },
  {
   "cell_type": "markdown",
   "source": [
    "> определим абстракный класс метрики расстояния"
   ],
   "metadata": {
    "collapsed": false
   }
  },
  {
   "cell_type": "code",
   "execution_count": 2,
   "outputs": [],
   "source": [
    "class FuncDist(ABC):\n",
    "    def calc(self, x1, x2):\n",
    "        pass\n"
   ],
   "metadata": {
    "collapsed": false,
    "pycharm": {
     "name": "#%%\n"
    }
   }
  },
  {
   "cell_type": "markdown",
   "source": [
    "> определим класс модели kNN"
   ],
   "metadata": {
    "collapsed": false
   }
  },
  {
   "cell_type": "code",
   "execution_count": 3,
   "outputs": [],
   "source": [
    "class GbKnn:\n",
    "    eta = 0\n",
    "    qu = 0\n",
    "    k_neighbours = 0\n",
    "\n",
    "    X_train = None\n",
    "    X_test = None\n",
    "    y_train = None\n",
    "    y_test = None\n",
    "\n",
    "    func_dist = None\n",
    "\n",
    "    def __init__(self, X, y, func_dist: FuncDist, k_neighbours=1, test_size=0.25, eta=1, qu=0.5):\n",
    "        self.params(k_neighbours=k_neighbours, eta=eta, qu=qu)\n",
    "        # разделение выборки встроено в класс\n",
    "        self.X_train, self.X_test, self.y_train, self.y_test = model_selection.train_test_split(X, y,\n",
    "                                                                                                test_size=test_size,\n",
    "                                                                                                random_state=1)\n",
    "        self.func_dist = func_dist\n",
    "\n",
    "    def params(self, k_neighbours=1, eta=1, qu=0.5):\n",
    "        self.k_neighbours = k_neighbours\n",
    "        self.eta = eta\n",
    "        self.qu = qu\n",
    "\n",
    "    def predict(self):\n",
    "        answers = []\n",
    "        for x in self.X_test:\n",
    "            test_distances = []\n",
    "\n",
    "            for i in range(len(self.X_train)):\n",
    "                # расчет расстояния от классифицируемого объекта до\n",
    "                # объекта обучающей выборки\n",
    "                distance = self.func_dist.calc(x, self.X_train[i])\n",
    "\n",
    "                # Записываем в список значение расстояния и ответа на объекте обучающей выборки\n",
    "                test_distances.append((distance, self.y_train[i]))\n",
    "\n",
    "            # создаем словарь со всеми возможными классами\n",
    "            classes = {class_item: 0 for class_item in set(self.y_train)}\n",
    "\n",
    "            test_distances = self.ordered(test_distances)\n",
    "            # print(test_distances)\n",
    "\n",
    "            # Сортируем список и среди первых k элементов подсчитаем частоту появления разных классов\n",
    "            for d in test_distances[0:self.k_neighbours]:\n",
    "                classes[d[1]] += 1\n",
    "\n",
    "            # Записываем в список ответов наиболее часто встречающийся класс\n",
    "            answers.append(sorted(classes, key=classes.get)[-1])\n",
    "        return answers\n",
    "\n",
    "    def accuracy(self, pred, y):\n",
    "        return (sum(pred == y) / len(y))\n",
    "\n",
    "    def quality(self, pred):\n",
    "        return self.accuracy(pred, self.y_test)\n",
    "\n",
    "    # шаблонный метод расчета расстояния\n",
    "    def ordered(self, distance):\n",
    "        return sorted(distance)"
   ],
   "metadata": {
    "collapsed": false,
    "pycharm": {
     "name": "#%%\n"
    }
   }
  },
  {
   "cell_type": "markdown",
   "source": [
    "> Определим конкретный класс расчета Евклидовой метрики расстояния"
   ],
   "metadata": {
    "collapsed": false
   }
  },
  {
   "cell_type": "code",
   "execution_count": 4,
   "outputs": [],
   "source": [
    "class EvMetDist(FuncDist):\n",
    "    def calc(self, x1, x2):\n",
    "        distance = 0\n",
    "        for i in range(len(x1)):\n",
    "            distance += np.square(x1[i] - x2[i])\n",
    "\n",
    "        return np.sqrt(distance)\n"
   ],
   "metadata": {
    "collapsed": false,
    "pycharm": {
     "name": "#%%\n"
    }
   }
  },
  {
   "cell_type": "markdown",
   "source": [
    "> переопределим шаблонный метод расчета расстояний с учетом весов, которые зависят от номера по удаленности"
   ],
   "metadata": {
    "collapsed": false
   }
  },
  {
   "cell_type": "code",
   "execution_count": 5,
   "outputs": [],
   "source": [
    "class GbKnnWNum(GbKnn):\n",
    "\n",
    "    def ordered(self, distance):\n",
    "        w_distance = []\n",
    "        for i, (d, y) in enumerate(sorted(distance)):\n",
    "            w_distance.append((d * (1 / (i + 1)), y))\n",
    "        return sorted(w_distance, reverse=True)\n"
   ],
   "metadata": {
    "collapsed": false,
    "pycharm": {
     "name": "#%%\n"
    }
   }
  },
  {
   "cell_type": "markdown",
   "source": [
    "> переопределим шаблонный метод расчета расстояний с учетом весов, которые зависят от расстояния\n"
   ],
   "metadata": {
    "collapsed": false
   }
  },
  {
   "cell_type": "code",
   "execution_count": 6,
   "outputs": [],
   "source": [
    "class GbKnnWDist(GbKnn):\n",
    "\n",
    "    def ordered(self, distance):\n",
    "        w_distance = []\n",
    "        for i, (d, y) in enumerate(distance):\n",
    "            w_distance.append((self.qu ** d, y))\n",
    "        return sorted(w_distance, reverse=True)\n"
   ],
   "metadata": {
    "collapsed": false,
    "pycharm": {
     "name": "#%%\n"
    }
   }
  },
  {
   "cell_type": "markdown",
   "source": [
    "Загрузим один из \"игрушечных\" датасетов из sklearn."
   ],
   "metadata": {
    "collapsed": false
   }
  },
  {
   "cell_type": "code",
   "execution_count": 7,
   "outputs": [],
   "source": [
    "from sklearn.datasets import load_iris\n",
    "\n",
    "X, y = load_iris(return_X_y=True)\n",
    "# Для наглядности возьмем только первые два признака (всего в датасете их 4)\n",
    "X = X[:, :2]"
   ],
   "metadata": {
    "collapsed": false,
    "pycharm": {
     "name": "#%%\n"
    }
   }
  },
  {
   "cell_type": "markdown",
   "source": [
    "### Задание 1.\n"
   ],
   "metadata": {
    "collapsed": false
   }
  },
  {
   "cell_type": "code",
   "execution_count": 11,
   "outputs": [
    {
     "data": {
      "text/plain": "0.8333333333333334"
     },
     "execution_count": 11,
     "metadata": {},
     "output_type": "execute_result"
    }
   ],
   "source": [
    "gbknn1 = GbKnn(X, y, EvMetDist(), test_size=0.2, k_neighbours=4)\n",
    "gbknn1.quality(gbknn1.predict())"
   ],
   "metadata": {
    "collapsed": false,
    "pycharm": {
     "name": "#%%\n"
    }
   }
  },
  {
   "cell_type": "code",
   "execution_count": 12,
   "outputs": [
    {
     "data": {
      "text/plain": "0.7333333333333333"
     },
     "execution_count": 12,
     "metadata": {},
     "output_type": "execute_result"
    }
   ],
   "source": [
    "gbknn2 = GbKnnWNum(X, y, EvMetDist(), test_size=0.2, k_neighbours=4)\n",
    "gbknn2.quality(gbknn2.predict())"
   ],
   "metadata": {
    "collapsed": false,
    "pycharm": {
     "name": "#%%\n"
    }
   }
  },
  {
   "cell_type": "code",
   "execution_count": null,
   "outputs": [],
   "source": [],
   "metadata": {
    "collapsed": false,
    "pycharm": {
     "name": "#%%\n"
    }
   }
  }
 ],
 "metadata": {
  "kernelspec": {
   "display_name": "Python 3 (ipykernel)",
   "language": "python",
   "name": "python3"
  },
  "language_info": {
   "codemirror_mode": {
    "name": "ipython",
    "version": 3
   },
   "file_extension": ".py",
   "mimetype": "text/x-python",
   "name": "python",
   "nbconvert_exporter": "python",
   "pygments_lexer": "ipython3",
   "version": "3.9.6"
  }
 },
 "nbformat": 4,
 "nbformat_minor": 1
}