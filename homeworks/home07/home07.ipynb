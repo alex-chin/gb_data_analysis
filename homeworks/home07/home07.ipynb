{
 "cells": [
  {
   "cell_type": "markdown",
   "source": [
    "## Задание № 7\n",
    "\n",
    "### Урок 7. Классификация с помощью KNN. Кластеризация K-means"
   ],
   "metadata": {
    "collapsed": false
   }
  },
  {
   "cell_type": "markdown",
   "source": [
    "#### Задание\n",
    "\n",
    "1. К алгоритму kNN, реализованному на уроке, реализовать добавление весов для соседей в зависимости от номера соседа.\n",
    "2. К алгоритму kNN, реализованному на уроке, реализовать добавление весов для соседей в зависимости от расстояния до соседа. Сравнить метрики качества и сложность разделяющей гиперплоскости. **Сделать выводы**.\n",
    "3. Настроить оптимальное значение числа соседей для моделей из п.1 и п.2. **Cделать выводы**.\n",
    "4. **(опция)** Написать функцию подсчета метрики качества кластеризации как среднее квадратичное внутриклассовое расстояние и построить график ее зависимости от количества кластеров k (взять от 1 до 10) для выборки данных из данного урока (создать датасет, как в методичке)."
   ],
   "metadata": {
    "collapsed": false
   }
  },
  {
   "cell_type": "markdown",
   "source": [
    "> Построим ООП модель алгоритма\n"
   ],
   "metadata": {
    "collapsed": false
   }
  },
  {
   "cell_type": "code",
   "execution_count": 1,
   "outputs": [],
   "source": [
    "from abc import ABC\n",
    "\n",
    "import numpy as np\n",
    "from sklearn import model_selection"
   ],
   "metadata": {
    "collapsed": false,
    "pycharm": {
     "name": "#%%\n"
    }
   }
  },
  {
   "cell_type": "markdown",
   "source": [
    "> определим абстракный класс метрики расстояния"
   ],
   "metadata": {
    "collapsed": false
   }
  },
  {
   "cell_type": "code",
   "execution_count": 2,
   "outputs": [],
   "source": [
    "class FuncDist(ABC):\n",
    "    def calc(self, x1, x2):\n",
    "        pass\n"
   ],
   "metadata": {
    "collapsed": false,
    "pycharm": {
     "name": "#%%\n"
    }
   }
  },
  {
   "cell_type": "markdown",
   "source": [
    "> определим класс модели kNN"
   ],
   "metadata": {
    "collapsed": false
   }
  },
  {
   "cell_type": "code",
   "execution_count": 3,
   "outputs": [],
   "source": [
    "class GbKnn:\n",
    "    eta = 0\n",
    "    qu = 0\n",
    "    k_neighbours = 0\n",
    "\n",
    "    X_train = None\n",
    "    X_test = None\n",
    "    y_train = None\n",
    "    y_test = None\n",
    "\n",
    "    func_dist = None\n",
    "\n",
    "    def __init__(self, X, y, func_dist: FuncDist, k_neighbours=1, test_size=0.25, eta=1, qu=0.5):\n",
    "        self.params(k_neighbours=k_neighbours, eta=eta, qu=qu)\n",
    "        # разделение выборки встроено в класс\n",
    "        self.X_train, self.X_test, self.y_train, self.y_test = model_selection.train_test_split(X, y,\n",
    "                                                                                                test_size=test_size,\n",
    "                                                                                                random_state=1)\n",
    "        self.func_dist = func_dist\n",
    "\n",
    "    def params(self, k_neighbours=1, eta=1, qu=0.5):\n",
    "        self.k_neighbours = k_neighbours\n",
    "        self.eta = eta\n",
    "        self.qu = qu\n",
    "\n",
    "    def predict(self):\n",
    "        answers = []\n",
    "        for x in self.X_test:\n",
    "            test_distances = []\n",
    "\n",
    "            for i in range(len(self.X_train)):\n",
    "                # расчет расстояния от классифицируемого объекта до\n",
    "                # объекта обучающей выборки\n",
    "                distance = self.func_dist.calc(x, self.X_train[i])\n",
    "\n",
    "                # Записываем в список значение расстояния и ответа на объекте обучающей выборки\n",
    "                test_distances.append((distance, self.y_train[i]))\n",
    "\n",
    "            # создаем словарь со всеми возможными классами\n",
    "            classes = {class_item: 0 for class_item in set(self.y_train)}\n",
    "\n",
    "            test_distances = self.ordered(test_distances)\n",
    "            # print(test_distances)\n",
    "\n",
    "            # Сортируем список и среди первых k элементов подсчитаем частоту появления разных классов\n",
    "            for d in test_distances[0:self.k_neighbours]:\n",
    "                classes[d[1]] += 1\n",
    "\n",
    "            # Записываем в список ответов наиболее часто встречающийся класс\n",
    "            answers.append(sorted(classes, key=classes.get)[-1])\n",
    "        return answers\n",
    "\n",
    "    def accuracy(self, pred, y):\n",
    "        return (sum(pred == y) / len(y))\n",
    "\n",
    "    def quality(self, pred):\n",
    "        return self.accuracy(pred, self.y_test)\n",
    "\n",
    "    # шаблонный метод расчета расстояния\n",
    "    def ordered(self, distance):\n",
    "        return sorted(distance)"
   ],
   "metadata": {
    "collapsed": false,
    "pycharm": {
     "name": "#%%\n"
    }
   }
  },
  {
   "cell_type": "markdown",
   "source": [
    "> Определим конкретный класс расчета Евклидовой метрики расстояния"
   ],
   "metadata": {
    "collapsed": false
   }
  },
  {
   "cell_type": "code",
   "execution_count": 4,
   "outputs": [],
   "source": [
    "class EvMetDist(FuncDist):\n",
    "    def calc(self, x1, x2):\n",
    "        distance = 0\n",
    "        for i in range(len(x1)):\n",
    "            distance += np.square(x1[i] - x2[i])\n",
    "\n",
    "        return np.sqrt(distance)\n"
   ],
   "metadata": {
    "collapsed": false,
    "pycharm": {
     "name": "#%%\n"
    }
   }
  },
  {
   "cell_type": "markdown",
   "source": [
    "> переопределим шаблонный метод расчета расстояний с учетом весов, которые зависят от номера по удаленности"
   ],
   "metadata": {
    "collapsed": false
   }
  },
  {
   "cell_type": "code",
   "execution_count": 5,
   "outputs": [],
   "source": [
    "class GbKnnWNum(GbKnn):\n",
    "\n",
    "    def ordered(self, distance):\n",
    "        w_distance = []\n",
    "        for i, (d, y) in enumerate(sorted(distance)):\n",
    "            w_distance.append((d * (1 / (i + 1)), y))\n",
    "        return sorted(w_distance, reverse=True)\n"
   ],
   "metadata": {
    "collapsed": false,
    "pycharm": {
     "name": "#%%\n"
    }
   }
  },
  {
   "cell_type": "markdown",
   "source": [
    "> переопределим шаблонный метод расчета расстояний с учетом весов, которые зависят от расстояния\n"
   ],
   "metadata": {
    "collapsed": false
   }
  },
  {
   "cell_type": "code",
   "execution_count": 6,
   "outputs": [],
   "source": [
    "class GbKnnWDist(GbKnn):\n",
    "\n",
    "    def ordered(self, distance):\n",
    "        w_distance = []\n",
    "        for i, (d, y) in enumerate(distance):\n",
    "            w_distance.append((self.qu ** d, y))\n",
    "        return sorted(w_distance, reverse=True)\n"
   ],
   "metadata": {
    "collapsed": false,
    "pycharm": {
     "name": "#%%\n"
    }
   }
  },
  {
   "cell_type": "markdown",
   "source": [
    "Загрузим один из \"игрушечных\" датасетов из sklearn."
   ],
   "metadata": {
    "collapsed": false
   }
  },
  {
   "cell_type": "code",
   "execution_count": 63,
   "outputs": [],
   "source": [
    "from sklearn.datasets import load_iris\n",
    "\n",
    "X, y = load_iris(return_X_y=True)"
   ],
   "metadata": {
    "collapsed": false,
    "pycharm": {
     "name": "#%%\n"
    }
   }
  },
  {
   "cell_type": "code",
   "source": [
    "# Для наглядности возьмем только первые два признака (всего в датасете их 4)\n",
    "X = X[:, :2]"
   ],
   "metadata": {
    "collapsed": false,
    "pycharm": {
     "name": "#%%\n"
    }
   },
   "execution_count": 64,
   "outputs": []
  },
  {
   "cell_type": "markdown",
   "source": [
    "### Задание 1.\n"
   ],
   "metadata": {
    "collapsed": false
   }
  },
  {
   "cell_type": "code",
   "execution_count": 48,
   "outputs": [
    {
     "data": {
      "text/plain": "0.8333333333333334"
     },
     "execution_count": 48,
     "metadata": {},
     "output_type": "execute_result"
    }
   ],
   "source": [
    "gbknn1 = GbKnn(X, y, EvMetDist(), test_size=0.2, k_neighbours=4)\n",
    "gbknn1.quality(gbknn1.predict())"
   ],
   "metadata": {
    "collapsed": false,
    "pycharm": {
     "name": "#%%\n"
    }
   }
  },
  {
   "cell_type": "code",
   "execution_count": 49,
   "outputs": [
    {
     "data": {
      "text/plain": "0.7333333333333333"
     },
     "execution_count": 49,
     "metadata": {},
     "output_type": "execute_result"
    }
   ],
   "source": [
    "gbknn2 = GbKnnWNum(X, y, EvMetDist(), test_size=0.2, k_neighbours=4)\n",
    "gbknn2.quality(gbknn2.predict())"
   ],
   "metadata": {
    "collapsed": false,
    "pycharm": {
     "name": "#%%\n"
    }
   }
  },
  {
   "cell_type": "code",
   "execution_count": 50,
   "outputs": [],
   "source": [
    "ex1_pred1 = []\n",
    "ex1_pred2 = []\n",
    "for k in range(1, 10 + 1):\n",
    "    gbknn1.params(k_neighbours=k)\n",
    "    gbknn2.params(k_neighbours=k)\n",
    "    ex1_pred1.append([k, gbknn1.quality(gbknn1.predict())])\n",
    "    ex1_pred2.append([k, gbknn2.quality(gbknn2.predict())])\n",
    "ex1_pred1 = np.array(ex1_pred1)\n",
    "ex1_pred2 = np.array(ex1_pred2)"
   ],
   "metadata": {
    "collapsed": false,
    "pycharm": {
     "name": "#%%\n"
    }
   }
  },
  {
   "cell_type": "code",
   "execution_count": 51,
   "outputs": [
    {
     "data": {
      "text/plain": "<Figure size 432x288 with 1 Axes>",
      "image/png": "[encoded data removed]"
     },
     "metadata": {
      "needs_background": "light"
     },
     "output_type": "display_data"
    }
   ],
   "source": [
    "from matplotlib import pyplot as plt\n",
    "\n",
    "plt.plot(ex1_pred1[:, :1], ex1_pred1[:, 1:2])\n",
    "plt.plot(ex1_pred2[:, :1], ex1_pred2[:, 1:2])\n",
    "plt.show()\n"
   ],
   "metadata": {
    "collapsed": false,
    "pycharm": {
     "name": "#%%\n"
    }
   }
  },
  {
   "cell_type": "markdown",
   "source": [
    "> алгоритм с весами более устойчив к параметру соседи и\n",
    "> имеет один максимум точности при количестве соседей равных 7"
   ],
   "metadata": {
    "collapsed": false
   }
  },
  {
   "cell_type": "markdown",
   "source": [
    "### Задание 2.\n"
   ],
   "metadata": {
    "collapsed": false
   }
  },
  {
   "cell_type": "code",
   "execution_count": 52,
   "outputs": [
    {
     "data": {
      "text/plain": "0.8333333333333334"
     },
     "execution_count": 52,
     "metadata": {},
     "output_type": "execute_result"
    }
   ],
   "source": [
    "gbknn1 = GbKnn(X, y, EvMetDist(), test_size=0.2, k_neighbours=4)\n",
    "gbknn1.quality(gbknn1.predict())"
   ],
   "metadata": {
    "collapsed": false,
    "pycharm": {
     "name": "#%%\n"
    }
   }
  },
  {
   "cell_type": "code",
   "execution_count": 53,
   "outputs": [
    {
     "data": {
      "text/plain": "0.7666666666666667"
     },
     "execution_count": 53,
     "metadata": {},
     "output_type": "execute_result"
    }
   ],
   "source": [
    "gbknn2 = GbKnnWDist(X, y, EvMetDist(), test_size=0.2, k_neighbours=4)\n",
    "gbknn2.quality(gbknn2.predict())"
   ],
   "metadata": {
    "collapsed": false,
    "pycharm": {
     "name": "#%%\n"
    }
   }
  },
  {
   "cell_type": "code",
   "execution_count": 54,
   "outputs": [],
   "source": [
    "ex1_pred1 = []\n",
    "ex1_pred2 = []\n",
    "for k in range(1, 10 + 1):\n",
    "    gbknn1.params(k_neighbours=k)\n",
    "    gbknn2.params(k_neighbours=k)\n",
    "    ex1_pred1.append([k, gbknn1.quality(gbknn1.predict())])\n",
    "    ex1_pred2.append([k, gbknn2.quality(gbknn2.predict())])\n",
    "ex1_pred1 = np.array(ex1_pred1)\n",
    "ex1_pred2 = np.array(ex1_pred2)"
   ],
   "metadata": {
    "collapsed": false,
    "pycharm": {
     "name": "#%%\n"
    }
   }
  },
  {
   "cell_type": "code",
   "execution_count": 55,
   "outputs": [
    {
     "data": {
      "text/plain": "<Figure size 432x288 with 1 Axes>",
      "image/png": "[encoded data removed]"
     },
     "metadata": {
      "needs_background": "light"
     },
     "output_type": "display_data"
    }
   ],
   "source": [
    "from matplotlib import pyplot as plt\n",
    "\n",
    "plt.plot(ex1_pred1[:, :1], ex1_pred1[:, 1:2])\n",
    "plt.plot(ex1_pred2[:, :1], ex1_pred2[:, 1:2])\n",
    "plt.show()\n"
   ],
   "metadata": {
    "collapsed": false,
    "pycharm": {
     "name": "#%%\n"
    }
   }
  },
  {
   "cell_type": "markdown",
   "source": [
    "> алгоритм с весами более устойчив к параметру соседи и\n",
    "> имеет один максимум точности при количестве соседей равных 9"
   ],
   "metadata": {
    "collapsed": false
   }
  },
  {
   "cell_type": "markdown",
   "source": [
    "> Исследуем зависимость алгоритма от параметра Q при расчете весов\n",
    "> в зависимости от расстояния при фиксированном количестве соседей"
   ],
   "metadata": {
    "collapsed": false
   }
  },
  {
   "cell_type": "code",
   "source": [
    "gbknn2 = GbKnnWDist(X, y, EvMetDist(), test_size=0.2, k_neighbours=4)\n",
    "ex2_pred1 = []\n",
    "for q in np.arange(0.1, 1, 0.1):\n",
    "    gbknn2.params(qu=q, k_neighbours=5)\n",
    "    ex2_pred1.append([q, gbknn2.quality(gbknn2.predict())])\n",
    "ex2_pred1 = np.array(ex2_pred1)\n",
    "ex2_pred1"
   ],
   "metadata": {
    "collapsed": false,
    "pycharm": {
     "name": "#%%\n"
    }
   },
   "execution_count": 74,
   "outputs": [
    {
     "data": {
      "text/plain": "array([[0.1       , 0.8       ],\n       [0.2       , 0.8       ],\n       [0.3       , 0.8       ],\n       [0.4       , 0.8       ],\n       [0.5       , 0.8       ],\n       [0.6       , 0.8       ],\n       [0.7       , 0.8       ],\n       [0.8       , 0.76666667],\n       [0.9       , 0.76666667]])"
     },
     "execution_count": 74,
     "metadata": {},
     "output_type": "execute_result"
    }
   ]
  },
  {
   "cell_type": "markdown",
   "source": [
    "> Алгоритм слабо зависит от фактора q при фиксированном количестве соседей"
   ],
   "metadata": {
    "collapsed": false
   }
  },
  {
   "cell_type": "markdown",
   "source": [
    "### Задание 3.\n"
   ],
   "metadata": {
    "collapsed": false
   }
  },
  {
   "cell_type": "code",
   "execution_count": 77,
   "outputs": [],
   "source": [
    "gbknn1 = GbKnn(X, y, EvMetDist(), test_size=0.2)\n",
    "gbknn2 = GbKnnWNum(X, y, EvMetDist(), test_size=0.2)\n",
    "gbknn3 = GbKnnWDist(X, y, EvMetDist(), test_size=0.2)\n",
    "preds1 = []\n",
    "preds_wnum = []\n",
    "preds_wdist = []\n",
    "\n",
    "for k in range(1, 10 + 1):\n",
    "    gbknn1.params(k_neighbours=k)\n",
    "    gbknn2.params(k_neighbours=k)\n",
    "    gbknn3.params(k_neighbours=k, qu=0.3)\n",
    "    preds1.append([k, gbknn1.quality(gbknn1.predict())])\n",
    "    preds_wnum.append([k, gbknn2.quality(gbknn2.predict())])\n",
    "    preds_wdist.append([k, gbknn3.quality(gbknn3.predict())])\n",
    "\n",
    "preds1 = np.array(preds1)\n",
    "preds_wnum = np.array(preds_wnum)\n",
    "preds_wdist = np.array(preds_wdist)"
   ],
   "metadata": {
    "collapsed": false,
    "pycharm": {
     "name": "#%%\n"
    }
   }
  },
  {
   "cell_type": "code",
   "execution_count": 82,
   "outputs": [
    {
     "data": {
      "text/plain": "<Figure size 432x288 with 1 Axes>",
      "image/png": "[encoded data removed]"
     },
     "metadata": {
      "needs_background": "light"
     },
     "output_type": "display_data"
    }
   ],
   "source": [
    "plt.plot(preds1[:, :1], preds1[:, 1:2], label='Обычный')\n",
    "plt.plot(preds_wnum[:, :1], preds_wnum[:, 1:2], label='C весами от номера')\n",
    "plt.plot(preds_wdist[:, :1], preds_wdist[:, 1:2], label='C весами от расстояния')\n",
    "plt.legend()\n",
    "plt.show()"
   ],
   "metadata": {
    "collapsed": false,
    "pycharm": {
     "name": "#%%\n"
    }
   }
  },
  {
   "cell_type": "markdown",
   "source": [
    "> Обычный Алгоритм имеет высокую метрику при параметре соседи равным 5\n",
    ">\n",
    "> Алгоритм с использованием весов от порядкого номера имеет высокую метрику при параметре соседи равным 7\n",
    ">\n",
    "> Алгоритм с использованием весов от расстояния имеет высокую метрику при параметре соседи равным 9\n",
    "\n"
   ],
   "metadata": {
    "collapsed": false,
    "pycharm": {
     "name": "#%% md\n"
    }
   }
  }
 ],
 "metadata": {
  "kernelspec": {
   "display_name": "Python 3 (ipykernel)",
   "language": "python",
   "name": "python3"
  },
  "language_info": {
   "codemirror_mode": {
    "name": "ipython",
    "version": 3
   },
   "file_extension": ".py",
   "mimetype": "text/x-python",
   "name": "python",
   "nbconvert_exporter": "python",
   "pygments_lexer": "ipython3",
   "version": "3.9.6"
  }
 },
 "nbformat": 4,
 "nbformat_minor": 1
}